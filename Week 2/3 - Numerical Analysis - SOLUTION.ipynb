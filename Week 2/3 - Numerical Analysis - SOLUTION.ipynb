{
 "cells": [
  {
   "cell_type": "markdown",
   "metadata": {},
   "source": [
    "## 3. Numerical Analysis Library 🔢\n",
    "When doing any sort of Machine Learning end-to-end project, understanding the data is an integral part. And to achieve this with little effort, library such as NumPy and Pandas are used "
   ]
  },
  {
   "cell_type": "markdown",
   "metadata": {},
   "source": [
    "### 3.1 NumPy\n",
    "Numpy (Numerical Python) is the core library for scientific computing in Python. It deals with mathematical computation and enables users to compute on multi-dimensional data structures more efficiently and easily."
   ]
  },
  {
   "cell_type": "markdown",
   "metadata": {},
   "source": [
    "#### 3.1.1 Housekeeping\n",
    "\n",
    "Before starting, make sure you have installed the Numpy package by executing this shell:"
   ]
  },
  {
   "cell_type": "code",
   "execution_count": 104,
   "metadata": {},
   "outputs": [
    {
     "name": "stdout",
     "output_type": "stream",
     "text": [
      "Requirement already satisfied: numpy in /Users/aliff416/miniforge3/envs/ClimateHack/lib/python3.9/site-packages (1.21.0)\n"
     ]
    }
   ],
   "source": [
    "!pip install numpy"
   ]
  },
  {
   "cell_type": "code",
   "execution_count": 105,
   "metadata": {},
   "outputs": [
    {
     "name": "stdout",
     "output_type": "stream",
     "text": [
      "1.21.0\n"
     ]
    }
   ],
   "source": [
    "import numpy as np      # Import numpy library into the current Python workflow, and refer it as np (a convention)\n",
    "print(np.__version__)   # Prints the current version of Numpy, this is useful when referring to documentation of the library"
   ]
  },
  {
   "cell_type": "markdown",
   "metadata": {},
   "source": [
    "#### 3.1.2 Initializing Array / Matrix\n",
    "\n",
    "Numpy offers a very intuitive way of representing matrices as multidimensional arrays. \n",
    "Shown below are some of the ways of initializing arrays:\n",
    "- `np.array()` : Create an array/matrix by specifying entry for each element\n",
    "- `np.ones()` : Create a matrix full of ones\n",
    "- `np.zeros()` : Create a matrix full of zeros\n",
    "- `np.eye()` : Create an identity matrix\n",
    "- `np.random.random()` : Create a matrix filled with random numbers between 0 and 1\n",
    "- `np.arange()` : Create an array in which its elemetss in sorted order \n",
    "- `np.empty()` : Create a matrix placeholder\n",
    "\n",
    "Further explanation on Numpy's documentations at https://numpy.org/doc/"
   ]
  },
  {
   "cell_type": "code",
   "execution_count": 54,
   "metadata": {},
   "outputs": [
    {
     "name": "stdout",
     "output_type": "stream",
     "text": [
      "Matrix b\n",
      "[[1. 1. 1.]\n",
      " [1. 1. 1.]\n",
      " [1. 1. 1.]]\n"
     ]
    }
   ],
   "source": [
    "# TODO: Crerate a 3x3 matrix full of ones\n",
    "\n",
    "# Expected outcome:\n",
    "# [[ 1  1  1]\n",
    "#  [ 1  1  1]\n",
    "#  [ 1  1  1]]\n",
    "\n",
    "b = np.ones((3, 3))\n",
    "print(\"Matrix b\")\n",
    "print(b)"
   ]
  },
  {
   "cell_type": "code",
   "execution_count": 55,
   "metadata": {},
   "outputs": [
    {
     "name": "stdout",
     "output_type": "stream",
     "text": [
      "Matrix c\n",
      "[[0. 0. 0. 0. 0.]\n",
      " [0. 0. 0. 0. 0.]\n",
      " [0. 0. 0. 0. 0.]\n",
      " [0. 0. 0. 0. 0.]\n",
      " [0. 0. 0. 0. 0.]]\n"
     ]
    }
   ],
   "source": [
    "# TODO: Crerate a 5x5 matrix full of zeros\n",
    "\n",
    "# Expected outcome:\n",
    "# [[ 0  0  0  0  0]\n",
    "#  [ 0  0  0  0  0]\n",
    "#  [ 0  0  0  0  0]\n",
    "#  [ 0  0  0  0  0]\n",
    "#  [ 0  0  0  0  0]]\n",
    "\n",
    "c = np.zeros((5, 5))\n",
    "print(\"Matrix c\")\n",
    "print(c)"
   ]
  },
  {
   "cell_type": "code",
   "execution_count": 57,
   "metadata": {},
   "outputs": [
    {
     "name": "stdout",
     "output_type": "stream",
     "text": [
      "Matrix d\n",
      "[[1. 0.]\n",
      " [0. 1.]]\n"
     ]
    }
   ],
   "source": [
    "# TODO: Crerate a 2x2 identity matrix\n",
    "\n",
    "# Expected outcome:\n",
    "# [[ 1  0]\n",
    "#  [ 0  1]]\n",
    "\n",
    "d = np.eye(2)\n",
    "print(\"Matrix d\")\n",
    "print(d)"
   ]
  },
  {
   "cell_type": "code",
   "execution_count": 73,
   "metadata": {},
   "outputs": [
    {
     "name": "stdout",
     "output_type": "stream",
     "text": [
      "\n",
      "Matrix e\n",
      "[[0.25092362 0.04609582 0.67681624]\n",
      " [0.04346949 0.1164237  0.60386569]\n",
      " [0.19093066 0.66851572 0.91744785]]\n"
     ]
    }
   ],
   "source": [
    "# TODO: Create a 3x3 matrix filled with random numbers between 0 and 1\n",
    "\n",
    "# Expected outcome (seed = 41):\n",
    "#  [[0.25092362 0.04609582 0.67681624]\n",
    "#  [0.04346949 0.1164237  0.60386569]\n",
    "#  [0.19093066 0.66851572 0.91744785]]\n",
    "\n",
    "# Further information on what is 'seed' and how numpy generate random number is given below: \n",
    "# 'https://www.w3schools.com/python/numpy/numpy_random.asp'\n",
    "\n",
    "np.random.seed(41)\n",
    "e = np.random.random((3, 3))\n",
    "print(\"\\nMatrix e\")\n",
    "print(e)"
   ]
  },
  {
   "cell_type": "code",
   "execution_count": 74,
   "metadata": {},
   "outputs": [
    {
     "name": "stdout",
     "output_type": "stream",
     "text": [
      "\n",
      "Matrix f\n",
      "[0 1 2 3 4 5 6 7 8 9]\n"
     ]
    }
   ],
   "source": [
    "# TODO: Create an array which has 0-9 as its elements in sorted order\n",
    "\n",
    "# expected output: [0, 1, 2, 3, 4, 5, 6, 7, 8, 9]\n",
    "\n",
    "f = np.arange(10)\n",
    "print(\"\\nMatrix f\")\n",
    "print(f)\n"
   ]
  },
  {
   "cell_type": "code",
   "execution_count": 82,
   "metadata": {},
   "outputs": [
    {
     "name": "stdout",
     "output_type": "stream",
     "text": [
      "\n",
      "Matrix g\n",
      "[[0.         0.         0.4472136 ]\n",
      " [0.0531494  0.18257419 0.4472136 ]\n",
      " [0.2125976  0.36514837 0.4472136 ]\n",
      " [0.4783446  0.54772256 0.4472136 ]\n",
      " [0.85039041 0.73029674 0.4472136 ]]\n"
     ]
    }
   ],
   "source": [
    "# TODO: create a 5x3 matrix placeholder, without initializing entries (elements in the matrix).\n",
    "# The number in each entries will be randomly generated since it entry in each elements are supposed to be changed at a later stage (hence why it's called placeholder)\n",
    "# Since the entries are randomly generated, we can generate a reproducible 'random number' by specifying a seed\n",
    "\n",
    "# Expected outcome (seed = 13):\n",
    "#    [[0.         0.         0.4472136 ]\n",
    "#    [0.0531494  0.18257419 0.4472136 ]\n",
    "#    [0.2125976  0.36514837 0.4472136 ]\n",
    "#    [0.4783446  0.54772256 0.4472136 ]\n",
    "#    [0.85039041 0.73029674 0.4472136 ]]\n",
    "\n",
    "np.random.seed(13)\n",
    "g = np.empty((5, 3))\n",
    "print(\"\\nMatrix g\")\n",
    "print(g)"
   ]
  },
  {
   "cell_type": "markdown",
   "metadata": {},
   "source": [
    "#### 3.1.3 Matrix Operations\n",
    "\n",
    "In machine learning, we will deal with a lot of matrix calculations. It is therefore good for us to get accustomed to some of the common operations we perform on them. Here is a list of the first few:\n",
    "\n",
    "- `np.transpose()` : Find the transpose of an array\n",
    "- `np.dot(a, b)` : Calculate the Dot product of two arrays\n",
    "- `np.linalg.inv()` : Calculate the inverse matrix of an array (only valid for square matrices, whose dimension is n * n)\n",
    "- `np.diagonal()` : Extract diagonal components of a two-dimensional array\n",
    "- `a.reshape(row = x, column = y)` : Reshape an array to the given dimension\n",
    "\n",
    "Now let's check what each of them does by filling in the cells below."
   ]
  },
  {
   "cell_type": "code",
   "execution_count": 43,
   "metadata": {},
   "outputs": [
    {
     "data": {
      "text/plain": [
       "array([[ 3, 11,  1,  4],\n",
       "       [ 7,  5,  2,  7],\n",
       "       [ 6,  8,  9,  7],\n",
       "       [ 0, 10,  4,  2]])"
      ]
     },
     "execution_count": 43,
     "metadata": {},
     "output_type": "execute_result"
    }
   ],
   "source": [
    "# Initialise the data we will use below\n",
    "x = np.array([\n",
    "    [3, 11, 1, 4],\n",
    "    [7, 5, 2, 7],\n",
    "    [6, 8, 9, 7],\n",
    "    [0, 10, 4, 2]\n",
    "])\n",
    "x"
   ]
  },
  {
   "cell_type": "code",
   "execution_count": 44,
   "metadata": {},
   "outputs": [
    {
     "data": {
      "text/plain": [
       "array([[ 3,  7,  6,  0],\n",
       "       [11,  5,  8, 10],\n",
       "       [ 1,  2,  9,  4],\n",
       "       [ 4,  7,  7,  2]])"
      ]
     },
     "execution_count": 44,
     "metadata": {},
     "output_type": "execute_result"
    }
   ],
   "source": [
    "# TODO: Transpose the array\n",
    "\n",
    "# Expected outcome:\n",
    "# [[ 3  7  6  0]\n",
    "#  [11  5  8 10]\n",
    "#  [ 1  2  9  4]]\n",
    "\n",
    "transposed = np.transpose(x)\n",
    "transposed"
   ]
  },
  {
   "cell_type": "code",
   "execution_count": 52,
   "metadata": {},
   "outputs": [
    {
     "data": {
      "text/plain": [
       "array([[147, 106, 143, 122],\n",
       "       [106, 127, 149,  72],\n",
       "       [143, 149, 230, 130],\n",
       "       [122,  72, 130, 120]])"
      ]
     },
     "execution_count": 52,
     "metadata": {},
     "output_type": "execute_result"
    }
   ],
   "source": [
    "# TODO: Dot product of two arrays: original x and x_transposed\n",
    "\n",
    "# Expected outcome:\n",
    "# [[131  78 115 114]\n",
    "#  [ 78  78 100  58]\n",
    "#  [115 100 181 116]\n",
    "#  [114  58 116 116]]\n",
    "\n",
    "y = np.dot(x, transposed)\n",
    "y"
   ]
  },
  {
   "cell_type": "code",
   "execution_count": 47,
   "metadata": {},
   "outputs": [
    {
     "name": "stdout",
     "output_type": "stream",
     "text": [
      "[[ 1.38095238 -1.14285714  0.80952381 -1.5952381 ]\n",
      " [ 0.29365079 -0.21428571  0.1031746  -0.1984127 ]\n",
      " [ 0.07142857 -0.21428571  0.21428571 -0.14285714]\n",
      " [-1.61111111  1.5        -0.94444444  1.77777778]]\n"
     ]
    }
   ],
   "source": [
    "# TODO: Calculate the inverse matrix of x\n",
    "\n",
    "# Expected outcome: \n",
    "#    [[ 1.38095238 -1.14285714  0.80952381 -1.5952381 ]\n",
    "#    [ 0.29365079 -0.21428571  0.1031746  -0.1984127 ]\n",
    "#    [ 0.07142857 -0.21428571  0.21428571 -0.14285714]\n",
    "#    [-1.61111111  1.5        -0.94444444  1.77777778]]\n",
    "\n",
    "inverse = np.linalg.inv(x)\n",
    "print(inverse)"
   ]
  },
  {
   "cell_type": "code",
   "execution_count": 48,
   "metadata": {},
   "outputs": [
    {
     "name": "stdout",
     "output_type": "stream",
     "text": [
      "[3 5 9 2]\n"
     ]
    }
   ],
   "source": [
    "# TODO: Extract the diagonal elements of an array x\n",
    "\n",
    "# Expected outcome: [3 5 9 2]\n",
    "\n",
    "diagonal = np.diag(x)\n",
    "print(diagonal)"
   ]
  },
  {
   "cell_type": "code",
   "execution_count": 51,
   "metadata": {},
   "outputs": [
    {
     "name": "stdout",
     "output_type": "stream",
     "text": [
      "[[ 3 11]\n",
      " [ 1  4]\n",
      " [ 7  5]\n",
      " [ 2  7]\n",
      " [ 6  8]\n",
      " [ 9  7]\n",
      " [ 0 10]\n",
      " [ 4  2]]\n"
     ]
    }
   ],
   "source": [
    "# TODO: Reshape an array x to one that has 8 rows and 2 columns\n",
    "\n",
    "# Expected outcome: \n",
    "#    [[ 3 11]\n",
    "#    [ 1  4]\n",
    "#    [ 7  5]\n",
    "#    [ 2  7]\n",
    "#    [ 6  8]\n",
    "#    [ 9  7]\n",
    "#    [ 0 10]\n",
    "#    [ 4  2]]\n",
    "\n",
    "reshaped = x.reshape((8, 2))\n",
    "print(reshaped)"
   ]
  },
  {
   "cell_type": "markdown",
   "metadata": {},
   "source": [
    "#### 3.1.4 Statistics in Numpy\n",
    "\n",
    "When we deal with large amounts of data, we will often want to know things about the data as a whole. This is where NumPy's statistics come to the rescue. Most of them are self-explanatory:\n",
    "\n",
    "- `np.sum()` : sum of all elements in an array\n",
    "- `np.max()` : returns the maximum element in an array\n",
    "- `np.min()` : Minimum value of an array\n",
    "- `np.mean()` : Mean of elements in an array\n",
    "- `np.median()` : Median value among elements\n",
    "- `np.var()` : Variance of the elements in the array\n",
    "- `np.std()` : Standard deviation of the elements in the array\n",
    "\n",
    "As before, fill in the cells below to get used to these methods."
   ]
  },
  {
   "cell_type": "code",
   "execution_count": 95,
   "metadata": {},
   "outputs": [],
   "source": [
    "x = np.array(\n",
    "    [34, 56, 6, 3, 9, 89, 120, 12, 201],\n",
    "    dtype = np.int32\n",
    ")"
   ]
  },
  {
   "cell_type": "code",
   "execution_count": 96,
   "metadata": {},
   "outputs": [
    {
     "name": "stdout",
     "output_type": "stream",
     "text": [
      "530\n"
     ]
    }
   ],
   "source": [
    "# TODO: Summation of elements \n",
    "# Expected outcome: 530\n",
    "\n",
    "summation = np.sum(x)\n",
    "print(summation)"
   ]
  },
  {
   "cell_type": "code",
   "execution_count": 97,
   "metadata": {},
   "outputs": [
    {
     "name": "stdout",
     "output_type": "stream",
     "text": [
      "201\n"
     ]
    }
   ],
   "source": [
    "# TODO: Maximum element in the array\n",
    "# Expected outcome: 201\n",
    "\n",
    "maximum = x.max()\n",
    "print(maximum)"
   ]
  },
  {
   "cell_type": "code",
   "execution_count": 98,
   "metadata": {},
   "outputs": [
    {
     "name": "stdout",
     "output_type": "stream",
     "text": [
      "3\n"
     ]
    }
   ],
   "source": [
    "# TODO: Minimum element in the array\n",
    "# Expected outcome: 3\n",
    "\n",
    "minimum = x.min()\n",
    "print(minimum)"
   ]
  },
  {
   "cell_type": "code",
   "execution_count": 99,
   "metadata": {},
   "outputs": [
    {
     "name": "stdout",
     "output_type": "stream",
     "text": [
      "58.888888888888886\n"
     ]
    }
   ],
   "source": [
    "# TODO: Average value of elements in the array\n",
    "# Expected outcome: 58.89\n",
    "\n",
    "mean = x.mean()\n",
    "print(mean)"
   ]
  },
  {
   "cell_type": "code",
   "execution_count": 100,
   "metadata": {},
   "outputs": [
    {
     "name": "stdout",
     "output_type": "stream",
     "text": [
      "34.0\n"
     ]
    }
   ],
   "source": [
    "# TODO: Median element in the array\n",
    "# Expected outcome: 34.0\n",
    "\n",
    "median = np.median(x)\n",
    "print(median)"
   ]
  },
  {
   "cell_type": "code",
   "execution_count": 101,
   "metadata": {},
   "outputs": [
    {
     "name": "stdout",
     "output_type": "stream",
     "text": [
      "4008.098765432099\n"
     ]
    }
   ],
   "source": [
    "# TODO: Variation of x\n",
    "# Expected outcome: 4008.098765432099\n",
    "\n",
    "variation = np.var(x)\n",
    "print(variation)"
   ]
  },
  {
   "cell_type": "code",
   "execution_count": 102,
   "metadata": {},
   "outputs": [
    {
     "name": "stdout",
     "output_type": "stream",
     "text": [
      "63.3095471902311\n"
     ]
    }
   ],
   "source": [
    "# TODO: Standard deviation of the array\n",
    "# Expected outcome: 63.3095471902311\n",
    "\n",
    "std = np.std(x)\n",
    "print(std)"
   ]
  },
  {
   "cell_type": "markdown",
   "metadata": {},
   "source": [
    "#### 3.1.5 Further Resources\n",
    "Shown below are some further resources you can dive to improve your literacy in using NumPy library\n",
    "- [NumPy Quickstart Tutorial](https://numpy.org/devdocs/user/quickstart.html)\n",
    "- [NumPy Tutorial - *by Nicolas Rougier*](https://github.com/rougier/numpy-tutorial)\n",
    "- [Stanford CS231 - *by Justin Johnson*](https://cs231n.github.io/python-numpy-tutorial/)\n",
    "- [Cheat Sheet](https://s3.amazonaws.com/assets.datacamp.com/blog_assets/Numpy_Python_Cheat_Sheet.pdf)\n",
    "- [Documentation](https://numpy.org/doc/) "
   ]
  },
  {
   "cell_type": "markdown",
   "metadata": {},
   "source": [
    "### 3.2 Pandas"
   ]
  },
  {
   "cell_type": "markdown",
   "metadata": {},
   "source": [
    "#### 3.2.1 Housekeeping\n",
    "Make sure you've installed the Pandas library"
   ]
  },
  {
   "cell_type": "code",
   "execution_count": 106,
   "metadata": {},
   "outputs": [
    {
     "name": "stdout",
     "output_type": "stream",
     "text": [
      "Requirement already satisfied: pandas in /Users/aliff416/miniforge3/envs/ClimateHack/lib/python3.9/site-packages (1.4.3)\n",
      "Requirement already satisfied: python-dateutil>=2.8.1 in /Users/aliff416/miniforge3/envs/ClimateHack/lib/python3.9/site-packages (from pandas) (2.8.2)\n",
      "Requirement already satisfied: pytz>=2020.1 in /Users/aliff416/miniforge3/envs/ClimateHack/lib/python3.9/site-packages (from pandas) (2021.3)\n",
      "Requirement already satisfied: numpy>=1.20.0 in /Users/aliff416/miniforge3/envs/ClimateHack/lib/python3.9/site-packages (from pandas) (1.21.0)\n",
      "Requirement already satisfied: six>=1.5 in /Users/aliff416/miniforge3/envs/ClimateHack/lib/python3.9/site-packages (from python-dateutil>=2.8.1->pandas) (1.15.0)\n"
     ]
    }
   ],
   "source": [
    "!pip install pandas"
   ]
  },
  {
   "cell_type": "code",
   "execution_count": 108,
   "metadata": {},
   "outputs": [
    {
     "name": "stdout",
     "output_type": "stream",
     "text": [
      "1.4.3\n"
     ]
    }
   ],
   "source": [
    "import pandas as pd       # Import pandas library into the current Python workflow, and refer it as pd (a convention)\n",
    "print(pd.__version__) # prints the current version of Numpy, this is useful when referring to documentation of the library"
   ]
  },
  {
   "cell_type": "markdown",
   "metadata": {},
   "source": [
    "#### 3.2.2 Series\n",
    "Series is in Pandas is one dimensional array consisting of the same data type\n",
    "\n",
    "Properties: index, values, dtype\n",
    "\n",
    "To create a Series, use the function below:\n",
    "- `pd.Series()`"
   ]
  },
  {
   "cell_type": "code",
   "execution_count": 147,
   "metadata": {},
   "outputs": [
    {
     "name": "stdout",
     "output_type": "stream",
     "text": [
      "-----Series 1-----\n",
      " A    1.0\n",
      "B    3.0\n",
      "C    5.0\n",
      "D    NaN\n",
      "E    6.0\n",
      "F    8.0\n",
      "dtype: float64 \n",
      "\n",
      "-----Series 2-----\n",
      " X    1\n",
      "Y    2\n",
      "Z    3\n",
      "Name: series, dtype: int64 \n",
      "\n",
      "-----Series 3-----\n",
      " A    1.0\n",
      "B    3.0\n",
      "C    5.0\n",
      "D    NaN\n",
      "E    6.0\n",
      "F    8.0\n",
      "dtype: float64 \n",
      "\n",
      "-----Series 4-----\n",
      " a    1\n",
      "b    2\n",
      "c    3\n",
      "dtype: int64 \n",
      "\n"
     ]
    }
   ],
   "source": [
    "# Creating a Series by passing a list of values, alongside with its index:\n",
    "s1 = pd.Series([1, 3, 5, np.nan, 6, 8], index=['A','B','C','D','E','F'])\n",
    "print(\"-----Series 1-----\\n\", s1, \"\\n\")\n",
    "\n",
    "\n",
    "# Creating a Series by passing a variable of list, alongside providing its index\n",
    "data = [1, 2, 3]\n",
    "index = ['X', 'Y', 'Z']\n",
    "s2 = pd.Series(data=data, index=index, name='series')\n",
    "print(\"-----Series 2-----\\n\", s2, \"\\n\")\n",
    "\n",
    "\n",
    "# Creating a Series by passing a list of values, letting pandas create a default integer index:\n",
    "s3 = pd.Series([1, 3, 5, np.nan, 6, 8], index=['A','B','C','D','E','F'])\n",
    "print(\"-----Series 3-----\\n\", s3, \"\\n\")\n",
    "\n",
    "\n",
    "# Creating a Series by passing a list of dictionaries\n",
    "s4 = pd.Series(data = {'a':1, 'b':2, 'c':3})\n",
    "print(\"-----Series 4-----\\n\", s4, \"\\n\")"
   ]
  },
  {
   "cell_type": "code",
   "execution_count": 130,
   "metadata": {},
   "outputs": [
    {
     "name": "stdout",
     "output_type": "stream",
     "text": [
      "-----Series 1-----\n",
      "\n",
      "example.name:\n",
      " None \n",
      "\n",
      "example.values:\n",
      " [ 1.  3.  5. nan  6.  8.] \n",
      "\n",
      "example.dtypes:\n",
      " float64 \n",
      "\n"
     ]
    }
   ],
   "source": [
    "# Further information contained in 's1'\n",
    "print(\"-----Series 1-----\\n\")\n",
    "print(\"example.name:\\n\",s1.name,\"\\n\")\n",
    "print(\"example.values:\\n\",s1.values,\"\\n\")\n",
    "print(\"example.dtypes:\\n\",s1.dtypes,\"\\n\")"
   ]
  },
  {
   "cell_type": "markdown",
   "metadata": {},
   "source": [
    "#### 3.2.3 DataFrame\n",
    "\n",
    "DataFrame is the bread and butter of Pandas. It consists of two-dimensional tabular data. \n",
    "\n",
    "Properties: index, column, values, dtype\n",
    "\n",
    "To create a DataFrame, use the function below:\n",
    "- `pd.DataFrame()`"
   ]
  },
  {
   "cell_type": "code",
   "execution_count": 141,
   "metadata": {},
   "outputs": [
    {
     "name": "stdout",
     "output_type": "stream",
     "text": [
      "-----DataFrame 1-----\n",
      "      Price1    Price2    Price3    Price4\n",
      "0  0.184946 -0.651056 -1.120507 -0.346607\n",
      "1 -0.911345 -0.746135 -0.770969 -0.413954\n",
      "2 -0.291811  0.126773 -1.247336  0.317171\n",
      "3 -1.818421  0.055692  0.080866 -2.319848\n",
      "4 -0.341121  1.089846  0.450531 -0.494299\n",
      "5 -0.546577  0.292026  0.154205  0.817306 \n",
      "\n",
      "-----DataFrame 2-----\n",
      "      A          B    C  D      E    F\n",
      "0  1.0 2013-01-02  1.0  3   test  foo\n",
      "1  1.0 2013-01-02  1.0  3  train  foo\n",
      "2  1.0 2013-01-02  1.0  3   test  foo\n",
      "3  1.0 2013-01-02  1.0  3  train  foo \n",
      "\n"
     ]
    }
   ],
   "source": [
    "# Creating a DataFrame by passing a NumPy array and labeled columns:\n",
    "df1 = pd.DataFrame(np.random.randn(6, 4), columns=['Price1','Price2','Price3','Price4'])\n",
    "print(\"-----DataFrame 1-----\\n\", df1, \"\\n\")\n",
    "\n",
    "# Creating a DataFrame by passing a dictionary of objects that can be converted into a series-like structure:\n",
    "df2 = pd.DataFrame({\n",
    "    \"A\": 1.0,\n",
    "    \"B\": pd.Timestamp(\"20130102\"),\n",
    "    \"C\": pd.Series(1, index=list(range(4)), dtype=\"float32\"),\n",
    "    \"D\": np.array([3] * 4, dtype=\"int32\"),\n",
    "    \"E\": pd.Categorical([\"test\", \"train\", \"test\", \"train\"]),\n",
    "    \"F\": \"foo\",\n",
    "})\n",
    "print(\"-----DataFrame 2-----\\n\", df2, \"\\n\")"
   ]
  },
  {
   "cell_type": "markdown",
   "metadata": {},
   "source": [
    "#### 3.2.4 Reading File and Export DataFrame\n",
    "In real project, we will be mostly using a provided dataset. Hence, we need a way of importing that data (CSV/HDF5/Excel) into a DataFrame so that it can be easily processed and manipulated later. On top of that, we will also want a way to export our processed data into some file\n",
    "\n",
    "Function for importing a dataset is: \n",
    "- `pd.read_csv()`\n",
    "- `pd.read_hdf()`\n",
    "- `pd.read_excel()`\n",
    "\n",
    "Function for exporting a DataFrame is: \n",
    "- `pd.DataFrame.to_csv()`\n",
    "- `pd.DataFrame.to_hdf()`\n",
    "- `pd.DataFrame.to_excel()`"
   ]
  },
  {
   "cell_type": "code",
   "execution_count": 156,
   "metadata": {},
   "outputs": [
    {
     "data": {
      "text/html": [
       "<div>\n",
       "<style scoped>\n",
       "    .dataframe tbody tr th:only-of-type {\n",
       "        vertical-align: middle;\n",
       "    }\n",
       "\n",
       "    .dataframe tbody tr th {\n",
       "        vertical-align: top;\n",
       "    }\n",
       "\n",
       "    .dataframe thead th {\n",
       "        text-align: right;\n",
       "    }\n",
       "</style>\n",
       "<table border=\"1\" class=\"dataframe\">\n",
       "  <thead>\n",
       "    <tr style=\"text-align: right;\">\n",
       "      <th></th>\n",
       "      <th>Username</th>\n",
       "      <th>Identifier</th>\n",
       "      <th>First name</th>\n",
       "      <th>Last name</th>\n",
       "    </tr>\n",
       "  </thead>\n",
       "  <tbody>\n",
       "    <tr>\n",
       "      <th>0</th>\n",
       "      <td>booker12</td>\n",
       "      <td>9012</td>\n",
       "      <td>Rachel</td>\n",
       "      <td>Booker</td>\n",
       "    </tr>\n",
       "    <tr>\n",
       "      <th>1</th>\n",
       "      <td>grey07</td>\n",
       "      <td>2070</td>\n",
       "      <td>Laura</td>\n",
       "      <td>Grey</td>\n",
       "    </tr>\n",
       "    <tr>\n",
       "      <th>2</th>\n",
       "      <td>johnson81</td>\n",
       "      <td>4081</td>\n",
       "      <td>Craig</td>\n",
       "      <td>Johnson</td>\n",
       "    </tr>\n",
       "    <tr>\n",
       "      <th>3</th>\n",
       "      <td>jenkins46</td>\n",
       "      <td>9346</td>\n",
       "      <td>Mary</td>\n",
       "      <td>Jenkins</td>\n",
       "    </tr>\n",
       "    <tr>\n",
       "      <th>4</th>\n",
       "      <td>smith79</td>\n",
       "      <td>5079</td>\n",
       "      <td>Jamie</td>\n",
       "      <td>Smith</td>\n",
       "    </tr>\n",
       "  </tbody>\n",
       "</table>\n",
       "</div>"
      ],
      "text/plain": [
       "    Username   Identifier First name Last name\n",
       "0   booker12         9012     Rachel    Booker\n",
       "1     grey07         2070      Laura      Grey\n",
       "2  johnson81         4081      Craig   Johnson\n",
       "3  jenkins46         9346       Mary   Jenkins\n",
       "4    smith79         5079      Jamie     Smith"
      ]
     },
     "execution_count": 156,
     "metadata": {},
     "output_type": "execute_result"
    }
   ],
   "source": [
    "df_import = pd.read_csv('username.csv', sep=';')     # Import a CSV file called 'username.csv'\n",
    "df_import.head()                                     # Show the first 5 dataset"
   ]
  },
  {
   "cell_type": "code",
   "execution_count": 158,
   "metadata": {},
   "outputs": [],
   "source": [
    "df_import.to_csv('username2.csv')           # Export a DataFrame into a file called 'username2.csv' "
   ]
  },
  {
   "cell_type": "markdown",
   "metadata": {},
   "source": [
    "#### 3.2.5 Data Manipulation\n",
    "When your data is in DataFrame type, the are endless things you can do with your data, from:\n",
    "- Reshaping Dataframe \n",
    "- Slicing \n",
    "- Query (take a subset of a DataFrame that meets certain criteria)\n",
    "- Handling Missing Data (very handy in Data Preprocessing step)\n",
    "- Summarize DataFrame\n",
    "\n",
    "Below are some of the functions you can call to execute the aforementioned functionality: \n",
    "- `df.sort_index()` : Sort the index of a DataFrame\n",
    "- `df.sort_values()` : Sort the DataFrame by the value in particular column\n",
    "- `df.drop(columns=['A’, 'B'])` : Drop columns from DataFrame\n",
    "- `df.head(n)` : Select first n rows; Default: n = 5\n",
    "- `df.tail(n)` : Select last n rows; Default: n = 5\n",
    "- `df.loc()` : Access a group of rows and columns by label(s) or a boolean array.\n",
    "- `df.iloc()` :  Access a group of rows and columns by position/index\n",
    "- `df.sample(n)` : Randomly select n rows.\n",
    "- `df[['A'],['B']]` : Select multiple columns with specific names (show only column 'A' and column 'B')\n",
    "- `df.query('A > 7')` : Take the rows that met specified criteria (Row at which the value of column A is greater than 7)\n",
    "- `df.dropna()` : Drop rows with any column having NA/null data.\n",
    "- `df.fillna(value)` : Replace all NA/null data with value.\n",
    "- `len(df)` : Return number of rows in DataFrame.\n",
    "- `df.shape()` : Return a tuple of number of rows, and number of columns in DataFrame\n",
    "- `df.describe()` : Provide a basic descriptive and statistics for each column "
   ]
  },
  {
   "cell_type": "code",
   "execution_count": 201,
   "metadata": {},
   "outputs": [
    {
     "data": {
      "text/html": [
       "<div>\n",
       "<style scoped>\n",
       "    .dataframe tbody tr th:only-of-type {\n",
       "        vertical-align: middle;\n",
       "    }\n",
       "\n",
       "    .dataframe tbody tr th {\n",
       "        vertical-align: top;\n",
       "    }\n",
       "\n",
       "    .dataframe thead th {\n",
       "        text-align: right;\n",
       "    }\n",
       "</style>\n",
       "<table border=\"1\" class=\"dataframe\">\n",
       "  <thead>\n",
       "    <tr style=\"text-align: right;\">\n",
       "      <th></th>\n",
       "      <th>Username</th>\n",
       "      <th>Identifier</th>\n",
       "      <th>First name</th>\n",
       "      <th>Last name</th>\n",
       "      <th>Age</th>\n",
       "    </tr>\n",
       "  </thead>\n",
       "  <tbody>\n",
       "    <tr>\n",
       "      <th>0</th>\n",
       "      <td>alpha01</td>\n",
       "      <td>1035</td>\n",
       "      <td>Romane</td>\n",
       "      <td>Alpha</td>\n",
       "      <td>21</td>\n",
       "    </tr>\n",
       "    <tr>\n",
       "      <th>1</th>\n",
       "      <td>booker12</td>\n",
       "      <td>9012</td>\n",
       "      <td>Rachel</td>\n",
       "      <td>Booker</td>\n",
       "      <td>13</td>\n",
       "    </tr>\n",
       "    <tr>\n",
       "      <th>2</th>\n",
       "      <td>grey07</td>\n",
       "      <td>2070</td>\n",
       "      <td>Laura</td>\n",
       "      <td>Grey</td>\n",
       "      <td>42</td>\n",
       "    </tr>\n",
       "    <tr>\n",
       "      <th>3</th>\n",
       "      <td>hedgehogger14</td>\n",
       "      <td>2456</td>\n",
       "      <td>Joe</td>\n",
       "      <td>Hogger</td>\n",
       "      <td>26</td>\n",
       "    </tr>\n",
       "    <tr>\n",
       "      <th>4</th>\n",
       "      <td>johnson81</td>\n",
       "      <td>4081</td>\n",
       "      <td>Craig</td>\n",
       "      <td>Johnson</td>\n",
       "      <td>43</td>\n",
       "    </tr>\n",
       "    <tr>\n",
       "      <th>5</th>\n",
       "      <td>jenkins46</td>\n",
       "      <td>9346</td>\n",
       "      <td>Mary</td>\n",
       "      <td>Jenkins</td>\n",
       "      <td>62</td>\n",
       "    </tr>\n",
       "    <tr>\n",
       "      <th>6</th>\n",
       "      <td>smith79</td>\n",
       "      <td>5079</td>\n",
       "      <td>Jamie</td>\n",
       "      <td>Smith</td>\n",
       "      <td>17</td>\n",
       "    </tr>\n",
       "    <tr>\n",
       "      <th>7</th>\n",
       "      <td>midnighteagle10</td>\n",
       "      <td>8274</td>\n",
       "      <td>Donald</td>\n",
       "      <td>Eagle</td>\n",
       "      <td>25</td>\n",
       "    </tr>\n",
       "    <tr>\n",
       "      <th>8</th>\n",
       "      <td>mavericky00</td>\n",
       "      <td>1035</td>\n",
       "      <td>Thomas</td>\n",
       "      <td>Maverick</td>\n",
       "      <td>35</td>\n",
       "    </tr>\n",
       "    <tr>\n",
       "      <th>9</th>\n",
       "      <td>laxman10</td>\n",
       "      <td>9821</td>\n",
       "      <td>Trevor</td>\n",
       "      <td>Dos</td>\n",
       "      <td>41</td>\n",
       "    </tr>\n",
       "  </tbody>\n",
       "</table>\n",
       "</div>"
      ],
      "text/plain": [
       "          Username  Identifier First name Last name  Age\n",
       "0          alpha01        1035     Romane     Alpha   21\n",
       "1         booker12        9012     Rachel    Booker   13\n",
       "2           grey07        2070      Laura      Grey   42\n",
       "3    hedgehogger14        2456        Joe    Hogger   26\n",
       "4        johnson81        4081      Craig   Johnson   43\n",
       "5        jenkins46        9346       Mary   Jenkins   62\n",
       "6          smith79        5079      Jamie     Smith   17\n",
       "7  midnighteagle10        8274     Donald     Eagle   25\n",
       "8      mavericky00        1035     Thomas  Maverick   35\n",
       "9         laxman10        9821     Trevor       Dos   41"
      ]
     },
     "metadata": {},
     "output_type": "display_data"
    }
   ],
   "source": [
    "# Initialise the data we will use below\n",
    "df = pd.read_csv('username.csv', sep=';')     # Import a CSV file called 'username.csv'\n",
    "display(df)"
   ]
  },
  {
   "cell_type": "code",
   "execution_count": 212,
   "metadata": {},
   "outputs": [
    {
     "data": {
      "text/plain": [
       "(10, 5)"
      ]
     },
     "execution_count": 212,
     "metadata": {},
     "output_type": "execute_result"
    }
   ],
   "source": [
    "# TODO: Find the shape of the DataFrame df\n",
    "\n",
    "# Expected outcome: (10, 5)\n",
    "\n",
    "df.shape"
   ]
  },
  {
   "cell_type": "code",
   "execution_count": 202,
   "metadata": {},
   "outputs": [
    {
     "name": "stdout",
     "output_type": "stream",
     "text": [
      "   Username  Identifier First name Last name  Age\n",
      "0   alpha01        1035     Romane     Alpha   21\n",
      "1  booker12        9012     Rachel    Booker   13\n",
      "2    grey07        2070      Laura      Grey   42\n"
     ]
    }
   ],
   "source": [
    "# TODO: Extract the first 3 rows of the DataFrame\n",
    "\n",
    "# Expected outcome: \n",
    "# \t    Username\t    Identifier\tFirst name\tLast name\n",
    "#    0\talpha01\t        1035\t    Romane\t    Alpha\n",
    "#    1\tbooker12\t    9012\t    Rachel\t    Booker\n",
    "#    2\tgrey07\t        2070\t    Laura\t    Grey\n",
    "\n",
    "df_extract1 = df.head(3)\n",
    "print(df_extract1)"
   ]
  },
  {
   "cell_type": "code",
   "execution_count": 203,
   "metadata": {},
   "outputs": [
    {
     "name": "stdout",
     "output_type": "stream",
     "text": [
      "        Username  Identifier First name Last name  Age\n",
      "3  hedgehogger14        2456        Joe    Hogger   26\n",
      "4      johnson81        4081      Craig   Johnson   43\n",
      "5      jenkins46        9346       Mary   Jenkins   62\n",
      "6        smith79        5079      Jamie     Smith   17\n"
     ]
    }
   ],
   "source": [
    "# TODO: Extract data in row 3-6 \n",
    "\n",
    "# Expected outcome: \n",
    "#       Username          Identifier    First name  Last name   Age\n",
    "#    3  hedgehogger14     2456          Joe         Hogger      26\n",
    "#    4  johnson81         4081          Craig       Johnson     43\n",
    "#    5  jenkins46         9346          Mary        Jenkins     62\n",
    "#    6  smith79           5079          Jamie       Smith       17\n",
    "\n",
    "df_extract2 = df.iloc[3:7]\n",
    "print(df_extract2)"
   ]
  },
  {
   "cell_type": "code",
   "execution_count": 204,
   "metadata": {},
   "outputs": [
    {
     "data": {
      "text/html": [
       "<div>\n",
       "<style scoped>\n",
       "    .dataframe tbody tr th:only-of-type {\n",
       "        vertical-align: middle;\n",
       "    }\n",
       "\n",
       "    .dataframe tbody tr th {\n",
       "        vertical-align: top;\n",
       "    }\n",
       "\n",
       "    .dataframe thead th {\n",
       "        text-align: right;\n",
       "    }\n",
       "</style>\n",
       "<table border=\"1\" class=\"dataframe\">\n",
       "  <thead>\n",
       "    <tr style=\"text-align: right;\">\n",
       "      <th></th>\n",
       "      <th>Identifier</th>\n",
       "      <th>Age</th>\n",
       "    </tr>\n",
       "  </thead>\n",
       "  <tbody>\n",
       "    <tr>\n",
       "      <th>count</th>\n",
       "      <td>10.000000</td>\n",
       "      <td>10.000000</td>\n",
       "    </tr>\n",
       "    <tr>\n",
       "      <th>mean</th>\n",
       "      <td>5220.900000</td>\n",
       "      <td>32.500000</td>\n",
       "    </tr>\n",
       "    <tr>\n",
       "      <th>std</th>\n",
       "      <td>3587.123529</td>\n",
       "      <td>14.908983</td>\n",
       "    </tr>\n",
       "    <tr>\n",
       "      <th>min</th>\n",
       "      <td>1035.000000</td>\n",
       "      <td>13.000000</td>\n",
       "    </tr>\n",
       "    <tr>\n",
       "      <th>25%</th>\n",
       "      <td>2166.500000</td>\n",
       "      <td>22.000000</td>\n",
       "    </tr>\n",
       "    <tr>\n",
       "      <th>50%</th>\n",
       "      <td>4580.000000</td>\n",
       "      <td>30.500000</td>\n",
       "    </tr>\n",
       "    <tr>\n",
       "      <th>75%</th>\n",
       "      <td>8827.500000</td>\n",
       "      <td>41.750000</td>\n",
       "    </tr>\n",
       "    <tr>\n",
       "      <th>max</th>\n",
       "      <td>9821.000000</td>\n",
       "      <td>62.000000</td>\n",
       "    </tr>\n",
       "  </tbody>\n",
       "</table>\n",
       "</div>"
      ],
      "text/plain": [
       "        Identifier        Age\n",
       "count    10.000000  10.000000\n",
       "mean   5220.900000  32.500000\n",
       "std    3587.123529  14.908983\n",
       "min    1035.000000  13.000000\n",
       "25%    2166.500000  22.000000\n",
       "50%    4580.000000  30.500000\n",
       "75%    8827.500000  41.750000\n",
       "max    9821.000000  62.000000"
      ]
     },
     "execution_count": 204,
     "metadata": {},
     "output_type": "execute_result"
    }
   ],
   "source": [
    "# TODO: Produce a basic statistical description of the DataFrame\n",
    "\n",
    "# Expected outcome: \n",
    "#       \tIdentifier\t    Age\n",
    "#   count\t10.000000\t    10.000000\n",
    "#   mean\t5220.900000\t    32.500000\n",
    "#   std\t    3587.123529\t    14.908983\n",
    "#   min\t    1035.000000\t    13.000000\n",
    "#   25%\t    2166.500000\t    22.000000\n",
    "#   50%\t    4580.000000\t    30.500000\n",
    "#   75%\t    8827.500000\t    41.750000\n",
    "#   max\t    9821.000000\t    62.000000\n",
    "\n",
    "df.describe()"
   ]
  },
  {
   "cell_type": "code",
   "execution_count": 205,
   "metadata": {},
   "outputs": [
    {
     "data": {
      "text/html": [
       "<div>\n",
       "<style scoped>\n",
       "    .dataframe tbody tr th:only-of-type {\n",
       "        vertical-align: middle;\n",
       "    }\n",
       "\n",
       "    .dataframe tbody tr th {\n",
       "        vertical-align: top;\n",
       "    }\n",
       "\n",
       "    .dataframe thead th {\n",
       "        text-align: right;\n",
       "    }\n",
       "</style>\n",
       "<table border=\"1\" class=\"dataframe\">\n",
       "  <thead>\n",
       "    <tr style=\"text-align: right;\">\n",
       "      <th></th>\n",
       "      <th>Username</th>\n",
       "      <th>Identifier</th>\n",
       "    </tr>\n",
       "  </thead>\n",
       "  <tbody>\n",
       "    <tr>\n",
       "      <th>7</th>\n",
       "      <td>midnighteagle10</td>\n",
       "      <td>8274</td>\n",
       "    </tr>\n",
       "    <tr>\n",
       "      <th>8</th>\n",
       "      <td>mavericky00</td>\n",
       "      <td>1035</td>\n",
       "    </tr>\n",
       "    <tr>\n",
       "      <th>9</th>\n",
       "      <td>laxman10</td>\n",
       "      <td>9821</td>\n",
       "    </tr>\n",
       "  </tbody>\n",
       "</table>\n",
       "</div>"
      ],
      "text/plain": [
       "          Username  Identifier\n",
       "7  midnighteagle10        8274\n",
       "8      mavericky00        1035\n",
       "9         laxman10        9821"
      ]
     },
     "metadata": {},
     "output_type": "display_data"
    }
   ],
   "source": [
    "# TODO: Extract the last 3 rows with only 'Username' and 'Identifier' as its column  \n",
    "\n",
    "# Expected outcome: \n",
    "#       Username\t        Identifier\n",
    "#   7\tmidnighteagle10\t    8274\n",
    "#   8\tmavericky00     \t1035\n",
    "#   9\tlaxman10\t        9821\n",
    "\n",
    "df_extract3 = df.tail(3)[['Username','Identifier']]\n",
    "display(df_extract3)"
   ]
  },
  {
   "cell_type": "code",
   "execution_count": 207,
   "metadata": {},
   "outputs": [
    {
     "data": {
      "text/plain": [
       "Index(['Username', 'Identifier', 'First name', 'Last name', 'Age'], dtype='object')"
      ]
     },
     "execution_count": 207,
     "metadata": {},
     "output_type": "execute_result"
    }
   ],
   "source": [
    "df.columns"
   ]
  },
  {
   "cell_type": "code",
   "execution_count": 210,
   "metadata": {},
   "outputs": [
    {
     "name": "stdout",
     "output_type": "stream",
     "text": [
      "          Username  Identifier First name Last name  Age\n",
      "5        jenkins46        9346       Mary   Jenkins   62\n",
      "4        johnson81        4081      Craig   Johnson   43\n",
      "2           grey07        2070      Laura      Grey   42\n",
      "9         laxman10        9821     Trevor       Dos   41\n",
      "8      mavericky00        1035     Thomas  Maverick   35\n",
      "3    hedgehogger14        2456        Joe    Hogger   26\n",
      "7  midnighteagle10        8274     Donald     Eagle   25\n",
      "0          alpha01        1035     Romane     Alpha   21\n",
      "6          smith79        5079      Jamie     Smith   17\n",
      "1         booker12        9012     Rachel    Booker   13\n"
     ]
    }
   ],
   "source": [
    "# TODO: Sort the dataframe df by age in descending order\n",
    "\n",
    "# Expected outcome: \n",
    "#       Username        Identifier  First name  Last name   Age\n",
    "#   5   jenkins46       9346        Mary        Jenkins     62\n",
    "#   4   johnson81       4081        Craig       Johnson     43\n",
    "#   2   grey07          2070        Laura       Grey        42\n",
    "#   9   laxman10        9821        Trevor      Dos         41\n",
    "#   8   mavericky00     1035        Thomas      Maverick    35\n",
    "#   3   hedgehogger14   2456        Joe         Hogger      26\n",
    "#   7   midnighteagle10 8274        Donald      Eagle       25\n",
    "#   0   alpha01         1035        Romane      Alpha       21\n",
    "#   6   smith79         5079        Jamie       Smith       17\n",
    "#   1   booker12        9012        Rachel      Booker      13\n",
    "\n",
    "df_sorted = df.sort_values(by=['Age'], ascending=False)\n",
    "print(df_sorted)"
   ]
  },
  {
   "cell_type": "code",
   "execution_count": 215,
   "metadata": {},
   "outputs": [
    {
     "data": {
      "text/html": [
       "<div>\n",
       "<style scoped>\n",
       "    .dataframe tbody tr th:only-of-type {\n",
       "        vertical-align: middle;\n",
       "    }\n",
       "\n",
       "    .dataframe tbody tr th {\n",
       "        vertical-align: top;\n",
       "    }\n",
       "\n",
       "    .dataframe thead th {\n",
       "        text-align: right;\n",
       "    }\n",
       "</style>\n",
       "<table border=\"1\" class=\"dataframe\">\n",
       "  <thead>\n",
       "    <tr style=\"text-align: right;\">\n",
       "      <th></th>\n",
       "      <th>Username</th>\n",
       "      <th>Identifier</th>\n",
       "      <th>First name</th>\n",
       "      <th>Last name</th>\n",
       "      <th>Age</th>\n",
       "    </tr>\n",
       "  </thead>\n",
       "  <tbody>\n",
       "    <tr>\n",
       "      <th>1</th>\n",
       "      <td>booker12</td>\n",
       "      <td>9012</td>\n",
       "      <td>Rachel</td>\n",
       "      <td>Booker</td>\n",
       "      <td>13</td>\n",
       "    </tr>\n",
       "    <tr>\n",
       "      <th>5</th>\n",
       "      <td>jenkins46</td>\n",
       "      <td>9346</td>\n",
       "      <td>Mary</td>\n",
       "      <td>Jenkins</td>\n",
       "      <td>62</td>\n",
       "    </tr>\n",
       "    <tr>\n",
       "      <th>7</th>\n",
       "      <td>midnighteagle10</td>\n",
       "      <td>8274</td>\n",
       "      <td>Donald</td>\n",
       "      <td>Eagle</td>\n",
       "      <td>25</td>\n",
       "    </tr>\n",
       "    <tr>\n",
       "      <th>9</th>\n",
       "      <td>laxman10</td>\n",
       "      <td>9821</td>\n",
       "      <td>Trevor</td>\n",
       "      <td>Dos</td>\n",
       "      <td>41</td>\n",
       "    </tr>\n",
       "  </tbody>\n",
       "</table>\n",
       "</div>"
      ],
      "text/plain": [
       "          Username  Identifier First name Last name  Age\n",
       "1         booker12        9012     Rachel    Booker   13\n",
       "5        jenkins46        9346       Mary   Jenkins   62\n",
       "7  midnighteagle10        8274     Donald     Eagle   25\n",
       "9         laxman10        9821     Trevor       Dos   41"
      ]
     },
     "execution_count": 215,
     "metadata": {},
     "output_type": "execute_result"
    }
   ],
   "source": [
    "# TODO: Find data in which the identifier is greater than 8000\n",
    "\n",
    "#   \tUsername\t    Identifier\tFirst name\tLast name\tAge\n",
    "#   1\tbooker12\t    9012\t    Rachel\t    Booker\t    13\n",
    "#   5\tjenkins46\t    9346\t    Mary\t    Jenkins\t    62\n",
    "#   7\tmidnighteagle10\t8274\t    Donald\t    Eagle\t    25\n",
    "#   9\tlaxman10\t    9821\t    Trevor\t    Dos\t        41\n",
    "\n",
    "df.query('Identifier > 8000')"
   ]
  },
  {
   "cell_type": "markdown",
   "metadata": {},
   "source": [
    "#### 3.2.6 Further Resources"
   ]
  },
  {
   "cell_type": "markdown",
   "metadata": {},
   "source": [
    "Shown below are some further resources you can dive to improve your literacy in using NumPy library\n",
    "- [Pandas Workshop - *by Stefanie Molin*](https://github.com/stefmolin/pandas-workshop)\n",
    "- [Pandas Cookbook - *by Julia Evans*](https://github.com/jvns/pandas-cookbook)\n",
    "- [Pandas Exercises - *by Guilherme Samora*](https://github.com/guipsamora/pandas_exercises)\n",
    "- [Cheat Sheet](https://pandas.pydata.org/Pandas_Cheat_Sheet.pdf)\n",
    "- [Documentation](https://pandas.pydata.org/docs/)"
   ]
  }
 ],
 "metadata": {
  "kernelspec": {
   "display_name": "Python 3.9.10 ('ClimateHack')",
   "language": "python",
   "name": "python3"
  },
  "language_info": {
   "codemirror_mode": {
    "name": "ipython",
    "version": 3
   },
   "file_extension": ".py",
   "mimetype": "text/x-python",
   "name": "python",
   "nbconvert_exporter": "python",
   "pygments_lexer": "ipython3",
   "version": "3.9.10"
  },
  "orig_nbformat": 4,
  "vscode": {
   "interpreter": {
    "hash": "11841742d11f96be4de93e6e6c2ae1e3a22839abf86213b3c23c4bf0c62307b4"
   }
  }
 },
 "nbformat": 4,
 "nbformat_minor": 2
}
