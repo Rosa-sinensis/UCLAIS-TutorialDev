{
 "cells": [
  {
   "cell_type": "markdown",
   "metadata": {},
   "source": [
    "## 3. Numerical Analysis Library 🔢\n",
    "When doing any sort of Machine Learning end-to-end project, understanding the data is an integral part. And to achieve this with little effort, library such as NumPy and Pandas are used "
   ]
  },
  {
   "cell_type": "markdown",
   "metadata": {},
   "source": [
    "### 3.1 NumPy\n",
    "Numpy (Numerical Python) is the core library for scientific computing in Python. It deals with mathematical computation and enables users to compute on multi-dimensional data structures more efficiently and easily."
   ]
  },
  {
   "cell_type": "markdown",
   "metadata": {},
   "source": [
    "#### 3.1.1 Housekeeping\n",
    "\n",
    "Before starting, make sure you have installed the Numpy package by executing this shell:"
   ]
  },
  {
   "cell_type": "code",
   "execution_count": null,
   "metadata": {},
   "outputs": [],
   "source": [
    "!pip install numpy"
   ]
  },
  {
   "cell_type": "code",
   "execution_count": 2,
   "metadata": {},
   "outputs": [
    {
     "name": "stdout",
     "output_type": "stream",
     "text": [
      "1.21.0\n"
     ]
    }
   ],
   "source": [
    "import numpy as np      # Import numpy library into the current Python workflow, and refer it as np (a convention)\n",
    "print(np.__version__)   # Prints the current version of Numpy, this is useful when referring to documentation of the library"
   ]
  },
  {
   "cell_type": "markdown",
   "metadata": {},
   "source": [
    "#### 3.1.2 Initializing Array / Matrix\n",
    "\n",
    "Numpy offers a very intuitive way of representing matrices as multidimensional arrays. \n",
    "Shown below are some of the ways of initializing arrays:\n",
    "- `np.array()` : Create an array/matrix by specifying entry for each element\n",
    "- `np.ones()` : Create a matrix full of ones\n",
    "- `np.zeros()` : Create a matrix full of zeros\n",
    "- `np.eye()` : Create an identity matrix\n",
    "- `np.random.random()` : Create a matrix filled with random numbers between 0 and 1\n",
    "- `np.arange()` : Create an array in which its elemetss in sorted order \n",
    "- `np.empty()` : Create a matrix placeholder\n",
    "\n",
    "Further explanation on Numpy's documentations at https://numpy.org/doc/"
   ]
  },
  {
   "cell_type": "code",
   "execution_count": 3,
   "metadata": {},
   "outputs": [
    {
     "name": "stdout",
     "output_type": "stream",
     "text": [
      "Matrix b\n",
      "[[1. 1. 1.]\n",
      " [1. 1. 1.]\n",
      " [1. 1. 1.]]\n"
     ]
    }
   ],
   "source": [
    "# Create a 3x3 matrix full of ones\n",
    "\n",
    "b = np.ones((3, 3))\n",
    "print(\"Matrix b\")\n",
    "print(b)"
   ]
  },
  {
   "cell_type": "code",
   "execution_count": 4,
   "metadata": {},
   "outputs": [],
   "source": [
    "# TODO: Crerate a 5x5 matrix full of zeros\n",
    "\n",
    "# Expected outcome:\n",
    "# [[ 0  0  0  0  0]\n",
    "#  [ 0  0  0  0  0]\n",
    "#  [ 0  0  0  0  0]\n",
    "#  [ 0  0  0  0  0]\n",
    "#  [ 0  0  0  0  0]]\n",
    "\n",
    "\n",
    "########################################################\n",
    "# INSERT YOUR ANSWER HERE\n",
    "\n",
    "\n",
    "\n",
    "\n",
    "########################################################"
   ]
  },
  {
   "cell_type": "code",
   "execution_count": 5,
   "metadata": {},
   "outputs": [],
   "source": [
    "# TODO: Crerate a 2x2 identity matrix\n",
    "\n",
    "# Expected outcome:\n",
    "# [[ 1  0]\n",
    "#  [ 0  1]]\n",
    "\n",
    "\n",
    "########################################################\n",
    "# INSERT YOUR ANSWER HERE\n",
    "\n",
    "\n",
    "\n",
    "\n",
    "########################################################"
   ]
  },
  {
   "cell_type": "code",
   "execution_count": 6,
   "metadata": {},
   "outputs": [],
   "source": [
    "# TODO: Create a 3x3 matrix filled with random numbers between 0 and 1\n",
    "\n",
    "# Expected outcome (seed = 41):\n",
    "#  [[0.25092362 0.04609582 0.67681624]\n",
    "#  [0.04346949 0.1164237  0.60386569]\n",
    "#  [0.19093066 0.66851572 0.91744785]]\n",
    "\n",
    "# Further information on what is 'seed' and how numpy generate random number is given below: \n",
    "# 'https://www.w3schools.com/python/numpy/numpy_random.asp'\n",
    "\n",
    "\n",
    "########################################################\n",
    "# INSERT YOUR ANSWER HERE\n",
    "\n",
    "\n",
    "\n",
    "\n",
    "########################################################"
   ]
  },
  {
   "cell_type": "code",
   "execution_count": 7,
   "metadata": {},
   "outputs": [],
   "source": [
    "# TODO: Create an array which has 0-9 as its elements in sorted order\n",
    "\n",
    "# expected output: [0, 1, 2, 3, 4, 5, 6, 7, 8, 9]\n",
    "\n",
    "\n",
    "########################################################\n",
    "# INSERT YOUR ANSWER HERE\n",
    "\n",
    "\n",
    "\n",
    "\n",
    "########################################################\n"
   ]
  },
  {
   "cell_type": "code",
   "execution_count": 8,
   "metadata": {},
   "outputs": [],
   "source": [
    "# TODO: create a 5x3 matrix placeholder, without initializing entries (elements in the matrix).\n",
    "# The number in each entries will be randomly generated since it entry in each elements are supposed to be changed at a later stage (hence why it's called placeholder)\n",
    "# Since the entries are randomly generated, we can generate a reproducible 'random number' by specifying a seed\n",
    "\n",
    "# Expected outcome (seed = 13):\n",
    "#    [[0.         0.         0.4472136 ]\n",
    "#    [0.0531494  0.18257419 0.4472136 ]\n",
    "#    [0.2125976  0.36514837 0.4472136 ]\n",
    "#    [0.4783446  0.54772256 0.4472136 ]\n",
    "#    [0.85039041 0.73029674 0.4472136 ]]\n",
    "\n",
    "\n",
    "########################################################\n",
    "# INSERT YOUR ANSWER HERE\n",
    "\n",
    "\n",
    "\n",
    "\n",
    "########################################################"
   ]
  },
  {
   "cell_type": "markdown",
   "metadata": {},
   "source": [
    "#### 3.1.3 Matrix Operations\n",
    "\n",
    "In machine learning, we will deal with a lot of matrix calculations. It is therefore good for us to get accustomed to some of the common operations we perform on them. Here is a list of the first few:\n",
    "\n",
    "- `np.transpose()` : Find the transpose of an array\n",
    "- `np.dot(a, b)` : Calculate the Dot product of two arrays\n",
    "- `np.linalg.inv()` : Calculate the inverse matrix of an array (only valid for square matrices, whose dimension is n * n)\n",
    "- `np.diagonal()` : Extract diagonal components of a two-dimensional array\n",
    "- `a.reshape(row = x, column = y)` : Reshape an array to the given dimension\n",
    "\n",
    "Now let's check what each of them does by filling in the cells below."
   ]
  },
  {
   "cell_type": "code",
   "execution_count": 9,
   "metadata": {},
   "outputs": [
    {
     "data": {
      "text/plain": [
       "array([[ 3, 11,  1,  4],\n",
       "       [ 7,  5,  2,  7],\n",
       "       [ 6,  8,  9,  7],\n",
       "       [ 0, 10,  4,  2]])"
      ]
     },
     "execution_count": 9,
     "metadata": {},
     "output_type": "execute_result"
    }
   ],
   "source": [
    "# Initialise the data we will use below\n",
    "x = np.array([\n",
    "    [3, 11, 1, 4],\n",
    "    [7, 5, 2, 7],\n",
    "    [6, 8, 9, 7],\n",
    "    [0, 10, 4, 2]\n",
    "])\n",
    "x"
   ]
  },
  {
   "cell_type": "code",
   "execution_count": 10,
   "metadata": {},
   "outputs": [],
   "source": [
    "# TODO: Transpose the array\n",
    "\n",
    "# Expected outcome:\n",
    "# [[ 3  7  6  0]\n",
    "#  [11  5  8 10]\n",
    "#  [ 1  2  9  4]]\n",
    "\n",
    "\n",
    "########################################################\n",
    "# INSERT YOUR ANSWER HERE\n",
    "\n",
    "\n",
    "\n",
    "\n",
    "########################################################"
   ]
  },
  {
   "cell_type": "code",
   "execution_count": 11,
   "metadata": {},
   "outputs": [],
   "source": [
    "# TODO: Find the dot product of two arrays: original x and x_transposed\n",
    "\n",
    "# Expected outcome:\n",
    "# [[131  78 115 114]\n",
    "#  [ 78  78 100  58]\n",
    "#  [115 100 181 116]\n",
    "#  [114  58 116 116]]\n",
    "\n",
    "\n",
    "########################################################\n",
    "# INSERT YOUR ANSWER HERE\n",
    "\n",
    "\n",
    "\n",
    "\n",
    "########################################################"
   ]
  },
  {
   "cell_type": "code",
   "execution_count": 12,
   "metadata": {},
   "outputs": [],
   "source": [
    "# TODO: Calculate the inverse matrix of x\n",
    "\n",
    "# Expected outcome: \n",
    "#    [[ 1.38095238 -1.14285714  0.80952381 -1.5952381 ]\n",
    "#    [ 0.29365079 -0.21428571  0.1031746  -0.1984127 ]\n",
    "#    [ 0.07142857 -0.21428571  0.21428571 -0.14285714]\n",
    "#    [-1.61111111  1.5        -0.94444444  1.77777778]]\n",
    "\n",
    "\n",
    "########################################################\n",
    "# INSERT YOUR ANSWER HERE\n",
    "\n",
    "\n",
    "\n",
    "\n",
    "########################################################"
   ]
  },
  {
   "cell_type": "code",
   "execution_count": 13,
   "metadata": {},
   "outputs": [],
   "source": [
    "# TODO: Extract the diagonal elements of an array x\n",
    "\n",
    "# Expected outcome: [3 5 9 2]\n",
    "\n",
    "\n",
    "########################################################\n",
    "# INSERT YOUR ANSWER HERE\n",
    "\n",
    "\n",
    "\n",
    "\n",
    "########################################################"
   ]
  },
  {
   "cell_type": "code",
   "execution_count": 14,
   "metadata": {},
   "outputs": [],
   "source": [
    "# TODO: Reshape an array x to one that has 8 rows and 2 columns\n",
    "\n",
    "# Expected outcome: \n",
    "#    [[ 3 11]\n",
    "#    [ 1  4]\n",
    "#    [ 7  5]\n",
    "#    [ 2  7]\n",
    "#    [ 6  8]\n",
    "#    [ 9  7]\n",
    "#    [ 0 10]\n",
    "#    [ 4  2]]\n",
    "\n",
    "\n",
    "########################################################\n",
    "# INSERT YOUR ANSWER HERE\n",
    "\n",
    "\n",
    "\n",
    "\n",
    "########################################################"
   ]
  },
  {
   "cell_type": "markdown",
   "metadata": {},
   "source": [
    "#### 3.1.4 Statistics in Numpy\n",
    "\n",
    "When we deal with large amounts of data, we will often want to know things about the data as a whole. This is where NumPy's statistics come to the rescue. Most of them are self-explanatory:\n",
    "\n",
    "- `np.sum()` : sum of all elements in an array\n",
    "- `np.max()` : returns the maximum element in an array\n",
    "- `np.min()` : Minimum value of an array\n",
    "- `np.mean()` : Mean of elements in an array\n",
    "- `np.median()` : Median value among elements\n",
    "- `np.var()` : Variance of the elements in the array\n",
    "- `np.std()` : Standard deviation of the elements in the array\n",
    "\n",
    "As before, fill in the cells below to get used to these methods."
   ]
  },
  {
   "cell_type": "code",
   "execution_count": 15,
   "metadata": {},
   "outputs": [],
   "source": [
    "x = np.array(\n",
    "    [34, 56, 6, 3, 9, 89, 120, 12, 201],\n",
    "    dtype = np.int32\n",
    ")"
   ]
  },
  {
   "cell_type": "code",
   "execution_count": 16,
   "metadata": {},
   "outputs": [],
   "source": [
    "# TODO: Find the summation of all elements \n",
    "# Expected outcome: 530\n",
    "\n",
    "\n",
    "########################################################\n",
    "# INSERT YOUR ANSWER HERE\n",
    "\n",
    "\n",
    "\n",
    "\n",
    "########################################################"
   ]
  },
  {
   "cell_type": "code",
   "execution_count": 17,
   "metadata": {},
   "outputs": [],
   "source": [
    "# TODO: Maximum element in the array\n",
    "# Expected outcome: 201\n",
    "\n",
    "\n",
    "########################################################\n",
    "# INSERT YOUR ANSWER HERE\n",
    "\n",
    "\n",
    "\n",
    "\n",
    "########################################################"
   ]
  },
  {
   "cell_type": "code",
   "execution_count": 18,
   "metadata": {},
   "outputs": [],
   "source": [
    "# TODO: Minimum element in the array\n",
    "# Expected outcome: 3\n",
    "\n",
    "\n",
    "########################################################\n",
    "# INSERT YOUR ANSWER HERE\n",
    "\n",
    "\n",
    "\n",
    "\n",
    "########################################################"
   ]
  },
  {
   "cell_type": "code",
   "execution_count": 19,
   "metadata": {},
   "outputs": [],
   "source": [
    "# TODO: Average value of elements in the array\n",
    "# Expected outcome: 58.89\n",
    "\n",
    "\n",
    "########################################################\n",
    "# INSERT YOUR ANSWER HERE\n",
    "\n",
    "\n",
    "\n",
    "\n",
    "########################################################"
   ]
  },
  {
   "cell_type": "code",
   "execution_count": 20,
   "metadata": {},
   "outputs": [],
   "source": [
    "# TODO: Median element in the array\n",
    "# Expected outcome: 34.0\n",
    "\n",
    "\n",
    "########################################################\n",
    "# INSERT YOUR ANSWER HERE\n",
    "\n",
    "\n",
    "\n",
    "\n",
    "########################################################"
   ]
  },
  {
   "cell_type": "code",
   "execution_count": 21,
   "metadata": {},
   "outputs": [],
   "source": [
    "# TODO: Variation of x\n",
    "# Expected outcome: 4008.098765432099\n",
    "\n",
    "\n",
    "########################################################\n",
    "# INSERT YOUR ANSWER HERE\n",
    "\n",
    "\n",
    "\n",
    "\n",
    "########################################################"
   ]
  },
  {
   "cell_type": "code",
   "execution_count": 22,
   "metadata": {},
   "outputs": [],
   "source": [
    "# TODO: Standard deviation of the array\n",
    "# Expected outcome: 63.3095471902311\n",
    "\n",
    "\n",
    "########################################################\n",
    "# INSERT YOUR ANSWER HERE\n",
    "\n",
    "\n",
    "\n",
    "\n",
    "########################################################"
   ]
  },
  {
   "cell_type": "markdown",
   "metadata": {},
   "source": [
    "#### 3.1.5 Further Resources\n",
    "Shown below are some further resources you can dive to improve your literacy in using NumPy library\n",
    "- [NumPy Quickstart Tutorial](https://numpy.org/devdocs/user/quickstart.html)\n",
    "- [NumPy Tutorial - *by Nicolas Rougier*](https://github.com/rougier/numpy-tutorial)\n",
    "- [Stanford CS231 - *by Justin Johnson*](https://cs231n.github.io/python-numpy-tutorial/)\n",
    "- [Cheat Sheet](https://s3.amazonaws.com/assets.datacamp.com/blog_assets/Numpy_Python_Cheat_Sheet.pdf)\n",
    "- [Documentation](https://numpy.org/doc/) "
   ]
  },
  {
   "cell_type": "markdown",
   "metadata": {},
   "source": [
    "### 3.2 Pandas"
   ]
  },
  {
   "cell_type": "markdown",
   "metadata": {},
   "source": [
    "#### 3.2.1 Housekeeping\n",
    "Make sure you've installed the Pandas library"
   ]
  },
  {
   "cell_type": "code",
   "execution_count": null,
   "metadata": {},
   "outputs": [],
   "source": [
    "!pip install pandas"
   ]
  },
  {
   "cell_type": "code",
   "execution_count": 24,
   "metadata": {},
   "outputs": [
    {
     "name": "stdout",
     "output_type": "stream",
     "text": [
      "1.4.3\n"
     ]
    }
   ],
   "source": [
    "import pandas as pd       # Import pandas library into the current Python workflow, and refer it as pd (a convention)\n",
    "print(pd.__version__) # prints the current version of Numpy, this is useful when referring to documentation of the library"
   ]
  },
  {
   "cell_type": "markdown",
   "metadata": {},
   "source": [
    "#### 3.2.2 Series\n",
    "Series is in Pandas is one dimensional array consisting of the same data type\n",
    "\n",
    "Properties: index, values, dtype\n",
    "\n",
    "To create a Series, use the function below:\n",
    "- `pd.Series()`"
   ]
  },
  {
   "cell_type": "code",
   "execution_count": 25,
   "metadata": {},
   "outputs": [
    {
     "name": "stdout",
     "output_type": "stream",
     "text": [
      "-----Series 1-----\n",
      " A    1.0\n",
      "B    3.0\n",
      "C    5.0\n",
      "D    NaN\n",
      "E    6.0\n",
      "F    8.0\n",
      "dtype: float64 \n",
      "\n",
      "-----Series 2-----\n",
      " X    1\n",
      "Y    2\n",
      "Z    3\n",
      "Name: series, dtype: int64 \n",
      "\n",
      "-----Series 3-----\n",
      " A    1.0\n",
      "B    3.0\n",
      "C    5.0\n",
      "D    NaN\n",
      "E    6.0\n",
      "F    8.0\n",
      "dtype: float64 \n",
      "\n",
      "-----Series 4-----\n",
      " a    1\n",
      "b    2\n",
      "c    3\n",
      "dtype: int64 \n",
      "\n"
     ]
    }
   ],
   "source": [
    "# Creating a Series by passing a list of values, alongside with its index:\n",
    "s1 = pd.Series([1, 3, 5, np.nan, 6, 8], index=['A','B','C','D','E','F'])\n",
    "print(\"-----Series 1-----\\n\", s1, \"\\n\")\n",
    "\n",
    "\n",
    "# Creating a Series by passing a variable of list, alongside providing its index\n",
    "data = [1, 2, 3]\n",
    "index = ['X', 'Y', 'Z']\n",
    "s2 = pd.Series(data=data, index=index, name='series')\n",
    "print(\"-----Series 2-----\\n\", s2, \"\\n\")\n",
    "\n",
    "\n",
    "# Creating a Series by passing a list of values, letting pandas create a default integer index:\n",
    "s3 = pd.Series([1, 3, 5, np.nan, 6, 8], index=['A','B','C','D','E','F'])\n",
    "print(\"-----Series 3-----\\n\", s3, \"\\n\")\n",
    "\n",
    "\n",
    "# Creating a Series by passing a list of dictionaries\n",
    "s4 = pd.Series(data = {'a':1, 'b':2, 'c':3})\n",
    "print(\"-----Series 4-----\\n\", s4, \"\\n\")"
   ]
  },
  {
   "cell_type": "code",
   "execution_count": 26,
   "metadata": {},
   "outputs": [
    {
     "name": "stdout",
     "output_type": "stream",
     "text": [
      "-----Series 1-----\n",
      "\n",
      "example.name:\n",
      " None \n",
      "\n",
      "example.values:\n",
      " [ 1.  3.  5. nan  6.  8.] \n",
      "\n",
      "example.dtypes:\n",
      " float64 \n",
      "\n"
     ]
    }
   ],
   "source": [
    "# Further information contained in 's1'\n",
    "print(\"-----Series 1-----\\n\")\n",
    "print(\"example.name:\\n\",s1.name,\"\\n\")\n",
    "print(\"example.values:\\n\",s1.values,\"\\n\")\n",
    "print(\"example.dtypes:\\n\",s1.dtypes,\"\\n\")"
   ]
  },
  {
   "cell_type": "markdown",
   "metadata": {},
   "source": [
    "#### 3.2.3 DataFrame\n",
    "\n",
    "DataFrame is the bread and butter of Pandas. It consists of two-dimensional tabular data. \n",
    "\n",
    "Properties: index, column, values, dtype\n",
    "\n",
    "To create a DataFrame, use the function below:\n",
    "- `pd.DataFrame()`"
   ]
  },
  {
   "cell_type": "code",
   "execution_count": 27,
   "metadata": {},
   "outputs": [
    {
     "name": "stdout",
     "output_type": "stream",
     "text": [
      "-----DataFrame 1-----\n",
      "      Price1    Price2    Price3    Price4\n",
      "0  1.491515 -1.455411  1.364340  0.662262\n",
      "1  0.981317 -2.591107  1.441266 -1.006838\n",
      "2  1.225236  2.484035 -0.205642 -0.109825\n",
      "3  0.031135 -2.597811  0.098149  1.373166\n",
      "4  0.116901 -0.395580 -0.595162  1.242845\n",
      "5 -0.552610  0.050200  0.922437 -0.525894 \n",
      "\n",
      "-----DataFrame 2-----\n",
      "      A          B    C  D      E    F\n",
      "0  1.0 2013-01-02  1.0  3   test  foo\n",
      "1  1.0 2013-01-02  1.0  3  train  foo\n",
      "2  1.0 2013-01-02  1.0  3   test  foo\n",
      "3  1.0 2013-01-02  1.0  3  train  foo \n",
      "\n"
     ]
    }
   ],
   "source": [
    "# Creating a DataFrame by passing a NumPy array and labeled columns:\n",
    "df1 = pd.DataFrame(np.random.randn(6, 4), columns=['Price1','Price2','Price3','Price4'])\n",
    "print(\"-----DataFrame 1-----\\n\", df1, \"\\n\")\n",
    "\n",
    "# Creating a DataFrame by passing a dictionary of objects that can be converted into a series-like structure:\n",
    "df2 = pd.DataFrame({\n",
    "    \"A\": 1.0,\n",
    "    \"B\": pd.Timestamp(\"20130102\"),\n",
    "    \"C\": pd.Series(1, index=list(range(4)), dtype=\"float32\"),\n",
    "    \"D\": np.array([3] * 4, dtype=\"int32\"),\n",
    "    \"E\": pd.Categorical([\"test\", \"train\", \"test\", \"train\"]),\n",
    "    \"F\": \"foo\",\n",
    "})\n",
    "print(\"-----DataFrame 2-----\\n\", df2, \"\\n\")"
   ]
  },
  {
   "cell_type": "markdown",
   "metadata": {},
   "source": [
    "#### 3.2.4 Reading File and Export DataFrame\n",
    "In real project, we will be mostly using a provided dataset. Hence, we need a way of importing that data (CSV/HDF5/Excel) into a DataFrame so that it can be easily processed and manipulated later. On top of that, we will also want a way to export our processed data into some file\n",
    "\n",
    "Function for importing a dataset is: \n",
    "- `pd.read_csv()`\n",
    "- `pd.read_hdf()`\n",
    "- `pd.read_excel()`\n",
    "\n",
    "Function for exporting a DataFrame is: \n",
    "- `pd.DataFrame.to_csv()`\n",
    "- `pd.DataFrame.to_hdf()`\n",
    "- `pd.DataFrame.to_excel()`"
   ]
  },
  {
   "cell_type": "code",
   "execution_count": 28,
   "metadata": {},
   "outputs": [
    {
     "data": {
      "text/html": [
       "<div>\n",
       "<style scoped>\n",
       "    .dataframe tbody tr th:only-of-type {\n",
       "        vertical-align: middle;\n",
       "    }\n",
       "\n",
       "    .dataframe tbody tr th {\n",
       "        vertical-align: top;\n",
       "    }\n",
       "\n",
       "    .dataframe thead th {\n",
       "        text-align: right;\n",
       "    }\n",
       "</style>\n",
       "<table border=\"1\" class=\"dataframe\">\n",
       "  <thead>\n",
       "    <tr style=\"text-align: right;\">\n",
       "      <th></th>\n",
       "      <th>Username</th>\n",
       "      <th>Identifier</th>\n",
       "      <th>First name</th>\n",
       "      <th>Last name</th>\n",
       "      <th>Age</th>\n",
       "    </tr>\n",
       "  </thead>\n",
       "  <tbody>\n",
       "    <tr>\n",
       "      <th>0</th>\n",
       "      <td>alpha01</td>\n",
       "      <td>1035</td>\n",
       "      <td>Romane</td>\n",
       "      <td>Alpha</td>\n",
       "      <td>21</td>\n",
       "    </tr>\n",
       "    <tr>\n",
       "      <th>1</th>\n",
       "      <td>booker12</td>\n",
       "      <td>9012</td>\n",
       "      <td>Rachel</td>\n",
       "      <td>Booker</td>\n",
       "      <td>13</td>\n",
       "    </tr>\n",
       "    <tr>\n",
       "      <th>2</th>\n",
       "      <td>grey07</td>\n",
       "      <td>2070</td>\n",
       "      <td>Laura</td>\n",
       "      <td>Grey</td>\n",
       "      <td>42</td>\n",
       "    </tr>\n",
       "    <tr>\n",
       "      <th>3</th>\n",
       "      <td>hedgehogger14</td>\n",
       "      <td>2456</td>\n",
       "      <td>Joe</td>\n",
       "      <td>Hogger</td>\n",
       "      <td>26</td>\n",
       "    </tr>\n",
       "    <tr>\n",
       "      <th>4</th>\n",
       "      <td>johnson81</td>\n",
       "      <td>4081</td>\n",
       "      <td>Craig</td>\n",
       "      <td>Johnson</td>\n",
       "      <td>43</td>\n",
       "    </tr>\n",
       "  </tbody>\n",
       "</table>\n",
       "</div>"
      ],
      "text/plain": [
       "        Username  Identifier First name Last name  Age\n",
       "0        alpha01        1035     Romane     Alpha   21\n",
       "1       booker12        9012     Rachel    Booker   13\n",
       "2         grey07        2070      Laura      Grey   42\n",
       "3  hedgehogger14        2456        Joe    Hogger   26\n",
       "4      johnson81        4081      Craig   Johnson   43"
      ]
     },
     "execution_count": 28,
     "metadata": {},
     "output_type": "execute_result"
    }
   ],
   "source": [
    "df_import = pd.read_csv('username.csv', sep=';')     # Import a CSV file called 'username.csv'\n",
    "df_import.head()                                     # Show the first 5 dataset"
   ]
  },
  {
   "cell_type": "code",
   "execution_count": 29,
   "metadata": {},
   "outputs": [],
   "source": [
    "df_import.to_csv('username2.csv')           # Export a DataFrame into a file called 'username2.csv' "
   ]
  },
  {
   "cell_type": "markdown",
   "metadata": {},
   "source": [
    "#### 3.2.5 Data Manipulation\n",
    "When your data is in DataFrame type, the are endless things you can do with your data, from:\n",
    "- Reshaping Dataframe \n",
    "- Slicing \n",
    "- Query (take a subset of a DataFrame that meets certain criteria)\n",
    "- Handling Missing Data (very handy in Data Preprocessing step)\n",
    "- Summarize DataFrame\n",
    "\n",
    "Below are some of the functions you can call to execute the aforementioned functionality: \n",
    "- `df.sort_index()` : Sort the index of a DataFrame\n",
    "- `df.sort_values()` : Sort the DataFrame by the value in particular column\n",
    "- `df.drop(columns=['A’, 'B'])` : Drop columns from DataFrame\n",
    "- `df.head(n)` : Select first n rows; Default: n = 5\n",
    "- `df.tail(n)` : Select last n rows; Default: n = 5\n",
    "- `df.loc()` : Access a group of rows and columns by label(s) or a boolean array.\n",
    "- `df.iloc()` :  Access a group of rows and columns by position/index\n",
    "- `df.sample(n)` : Randomly select n rows.\n",
    "- `df[['A'],['B']]` : Select multiple columns with specific names (show only column 'A' and column 'B')\n",
    "- `df.query('A > 7')` : Take the rows that met specified criteria (Row at which the value of column A is greater than 7)\n",
    "- `df.dropna()` : Drop rows with any column having NA/null data.\n",
    "- `df.fillna(value)` : Replace all NA/null data with value.\n",
    "- `len(df)` : Return number of rows in DataFrame.\n",
    "- `df.shape()` : Return a tuple of number of rows, and number of columns in DataFrame\n",
    "- `df.describe()` : Provide a basic descriptive and statistics for each column "
   ]
  },
  {
   "cell_type": "code",
   "execution_count": 30,
   "metadata": {},
   "outputs": [
    {
     "data": {
      "text/html": [
       "<div>\n",
       "<style scoped>\n",
       "    .dataframe tbody tr th:only-of-type {\n",
       "        vertical-align: middle;\n",
       "    }\n",
       "\n",
       "    .dataframe tbody tr th {\n",
       "        vertical-align: top;\n",
       "    }\n",
       "\n",
       "    .dataframe thead th {\n",
       "        text-align: right;\n",
       "    }\n",
       "</style>\n",
       "<table border=\"1\" class=\"dataframe\">\n",
       "  <thead>\n",
       "    <tr style=\"text-align: right;\">\n",
       "      <th></th>\n",
       "      <th>Username</th>\n",
       "      <th>Identifier</th>\n",
       "      <th>First name</th>\n",
       "      <th>Last name</th>\n",
       "      <th>Age</th>\n",
       "    </tr>\n",
       "  </thead>\n",
       "  <tbody>\n",
       "    <tr>\n",
       "      <th>0</th>\n",
       "      <td>alpha01</td>\n",
       "      <td>1035</td>\n",
       "      <td>Romane</td>\n",
       "      <td>Alpha</td>\n",
       "      <td>21</td>\n",
       "    </tr>\n",
       "    <tr>\n",
       "      <th>1</th>\n",
       "      <td>booker12</td>\n",
       "      <td>9012</td>\n",
       "      <td>Rachel</td>\n",
       "      <td>Booker</td>\n",
       "      <td>13</td>\n",
       "    </tr>\n",
       "    <tr>\n",
       "      <th>2</th>\n",
       "      <td>grey07</td>\n",
       "      <td>2070</td>\n",
       "      <td>Laura</td>\n",
       "      <td>Grey</td>\n",
       "      <td>42</td>\n",
       "    </tr>\n",
       "    <tr>\n",
       "      <th>3</th>\n",
       "      <td>hedgehogger14</td>\n",
       "      <td>2456</td>\n",
       "      <td>Joe</td>\n",
       "      <td>Hogger</td>\n",
       "      <td>26</td>\n",
       "    </tr>\n",
       "    <tr>\n",
       "      <th>4</th>\n",
       "      <td>johnson81</td>\n",
       "      <td>4081</td>\n",
       "      <td>Craig</td>\n",
       "      <td>Johnson</td>\n",
       "      <td>43</td>\n",
       "    </tr>\n",
       "    <tr>\n",
       "      <th>5</th>\n",
       "      <td>jenkins46</td>\n",
       "      <td>9346</td>\n",
       "      <td>Mary</td>\n",
       "      <td>Jenkins</td>\n",
       "      <td>62</td>\n",
       "    </tr>\n",
       "    <tr>\n",
       "      <th>6</th>\n",
       "      <td>smith79</td>\n",
       "      <td>5079</td>\n",
       "      <td>Jamie</td>\n",
       "      <td>Smith</td>\n",
       "      <td>17</td>\n",
       "    </tr>\n",
       "    <tr>\n",
       "      <th>7</th>\n",
       "      <td>midnighteagle10</td>\n",
       "      <td>8274</td>\n",
       "      <td>Donald</td>\n",
       "      <td>Eagle</td>\n",
       "      <td>25</td>\n",
       "    </tr>\n",
       "    <tr>\n",
       "      <th>8</th>\n",
       "      <td>mavericky00</td>\n",
       "      <td>1035</td>\n",
       "      <td>Thomas</td>\n",
       "      <td>Maverick</td>\n",
       "      <td>35</td>\n",
       "    </tr>\n",
       "    <tr>\n",
       "      <th>9</th>\n",
       "      <td>laxman10</td>\n",
       "      <td>9821</td>\n",
       "      <td>Trevor</td>\n",
       "      <td>Dos</td>\n",
       "      <td>41</td>\n",
       "    </tr>\n",
       "  </tbody>\n",
       "</table>\n",
       "</div>"
      ],
      "text/plain": [
       "          Username  Identifier First name Last name  Age\n",
       "0          alpha01        1035     Romane     Alpha   21\n",
       "1         booker12        9012     Rachel    Booker   13\n",
       "2           grey07        2070      Laura      Grey   42\n",
       "3    hedgehogger14        2456        Joe    Hogger   26\n",
       "4        johnson81        4081      Craig   Johnson   43\n",
       "5        jenkins46        9346       Mary   Jenkins   62\n",
       "6          smith79        5079      Jamie     Smith   17\n",
       "7  midnighteagle10        8274     Donald     Eagle   25\n",
       "8      mavericky00        1035     Thomas  Maverick   35\n",
       "9         laxman10        9821     Trevor       Dos   41"
      ]
     },
     "metadata": {},
     "output_type": "display_data"
    }
   ],
   "source": [
    "# Initialise the data we will use below\n",
    "df = pd.read_csv('username.csv', sep=';')     # Import a CSV file called 'username.csv'\n",
    "display(df)"
   ]
  },
  {
   "cell_type": "code",
   "execution_count": 31,
   "metadata": {},
   "outputs": [],
   "source": [
    "# TODO: Find the shape of the DataFrame df\n",
    "\n",
    "# Expected outcome: (10, 5)\n",
    "\n",
    "\n",
    "########################################################\n",
    "# INSERT YOUR ANSWER HERE\n",
    "\n",
    "\n",
    "\n",
    "\n",
    "########################################################"
   ]
  },
  {
   "cell_type": "code",
   "execution_count": 32,
   "metadata": {},
   "outputs": [],
   "source": [
    "# TODO: Extract the first 3 rows of the DataFrame\n",
    "\n",
    "# Expected outcome: \n",
    "# \t    Username\t    Identifier\tFirst name\tLast name\n",
    "#    0\talpha01\t        1035\t    Romane\t    Alpha\n",
    "#    1\tbooker12\t    9012\t    Rachel\t    Booker\n",
    "#    2\tgrey07\t        2070\t    Laura\t    Grey\n",
    "\n",
    "\n",
    "########################################################\n",
    "# INSERT YOUR ANSWER HERE\n",
    "\n",
    "\n",
    "\n",
    "\n",
    "########################################################"
   ]
  },
  {
   "cell_type": "code",
   "execution_count": 33,
   "metadata": {},
   "outputs": [],
   "source": [
    "# TODO: Extract data in row 3-6 \n",
    "\n",
    "# Expected outcome: \n",
    "#       Username          Identifier    First name  Last name   Age\n",
    "#    3  hedgehogger14     2456          Joe         Hogger      26\n",
    "#    4  johnson81         4081          Craig       Johnson     43\n",
    "#    5  jenkins46         9346          Mary        Jenkins     62\n",
    "#    6  smith79           5079          Jamie       Smith       17\n",
    "\n",
    "\n",
    "########################################################\n",
    "# INSERT YOUR ANSWER HERE\n",
    "\n",
    "\n",
    "\n",
    "\n",
    "########################################################"
   ]
  },
  {
   "cell_type": "code",
   "execution_count": 34,
   "metadata": {},
   "outputs": [],
   "source": [
    "# TODO: Produce a basic statistical description of the DataFrame\n",
    "\n",
    "# Expected outcome: \n",
    "#       \tIdentifier\t    Age\n",
    "#   count\t10.000000\t    10.000000\n",
    "#   mean\t5220.900000\t    32.500000\n",
    "#   std\t    3587.123529\t    14.908983\n",
    "#   min\t    1035.000000\t    13.000000\n",
    "#   25%\t    2166.500000\t    22.000000\n",
    "#   50%\t    4580.000000\t    30.500000\n",
    "#   75%\t    8827.500000\t    41.750000\n",
    "#   max\t    9821.000000\t    62.000000\n",
    "\n",
    "\n",
    "########################################################\n",
    "# INSERT YOUR ANSWER HERE\n",
    "\n",
    "\n",
    "\n",
    "\n",
    "########################################################"
   ]
  },
  {
   "cell_type": "code",
   "execution_count": 35,
   "metadata": {},
   "outputs": [],
   "source": [
    "# TODO: Extract the last 3 rows with only 'Username' and 'Identifier' as its column  \n",
    "\n",
    "# Expected outcome: \n",
    "#       Username\t        Identifier\n",
    "#   7\tmidnighteagle10\t    8274\n",
    "#   8\tmavericky00     \t1035\n",
    "#   9\tlaxman10\t        9821\n",
    "\n",
    "\n",
    "########################################################\n",
    "# INSERT YOUR ANSWER HERE\n",
    "\n",
    "\n",
    "\n",
    "\n",
    "########################################################"
   ]
  },
  {
   "cell_type": "code",
   "execution_count": 36,
   "metadata": {},
   "outputs": [],
   "source": [
    "# TODO: Sort the dataframe df by age in descending order\n",
    "\n",
    "# Expected outcome: \n",
    "#       Username        Identifier  First name  Last name   Age\n",
    "#   5   jenkins46       9346        Mary        Jenkins     62\n",
    "#   4   johnson81       4081        Craig       Johnson     43\n",
    "#   2   grey07          2070        Laura       Grey        42\n",
    "#   9   laxman10        9821        Trevor      Dos         41\n",
    "#   8   mavericky00     1035        Thomas      Maverick    35\n",
    "#   3   hedgehogger14   2456        Joe         Hogger      26\n",
    "#   7   midnighteagle10 8274        Donald      Eagle       25\n",
    "#   0   alpha01         1035        Romane      Alpha       21\n",
    "#   6   smith79         5079        Jamie       Smith       17\n",
    "#   1   booker12        9012        Rachel      Booker      13\n",
    "\n",
    "\n",
    "########################################################\n",
    "# INSERT YOUR ANSWER HERE\n",
    "\n",
    "\n",
    "\n",
    "\n",
    "########################################################"
   ]
  },
  {
   "cell_type": "code",
   "execution_count": 37,
   "metadata": {},
   "outputs": [],
   "source": [
    "# TODO: Find data in which the identifier is greater than 8000\n",
    "\n",
    "#   \tUsername\t    Identifier\tFirst name\tLast name\tAge\n",
    "#   1\tbooker12\t    9012\t    Rachel\t    Booker\t    13\n",
    "#   5\tjenkins46\t    9346\t    Mary\t    Jenkins\t    62\n",
    "#   7\tmidnighteagle10\t8274\t    Donald\t    Eagle\t    25\n",
    "#   9\tlaxman10\t    9821\t    Trevor\t    Dos\t        41\n",
    "\n",
    "\n",
    "########################################################\n",
    "# INSERT YOUR ANSWER HERE\n",
    "\n",
    "\n",
    "\n",
    "\n",
    "########################################################"
   ]
  },
  {
   "cell_type": "markdown",
   "metadata": {},
   "source": [
    "#### 3.2.6 Further Resources\n",
    "\n",
    "Shown below are some further resources you can dive to improve your literacy in using NumPy library\n",
    "- [Pandas Workshop - *by Stefanie Molin*](https://github.com/stefmolin/pandas-workshop)\n",
    "- [Pandas Cookbook - *by Julia Evans*](https://github.com/jvns/pandas-cookbook)\n",
    "- [Pandas Exercises - *by Guilherme Samora*](https://github.com/guipsamora/pandas_exercises)\n",
    "- [Cheat Sheet](https://pandas.pydata.org/Pandas_Cheat_Sheet.pdf)\n",
    "- [Documentation](https://pandas.pydata.org/docs/)"
   ]
  }
 ],
 "metadata": {
  "kernelspec": {
   "display_name": "Python 3.9.10 ('ClimateHack')",
   "language": "python",
   "name": "python3"
  },
  "language_info": {
   "codemirror_mode": {
    "name": "ipython",
    "version": 3
   },
   "file_extension": ".py",
   "mimetype": "text/x-python",
   "name": "python",
   "nbconvert_exporter": "python",
   "pygments_lexer": "ipython3",
   "version": "3.9.10"
  },
  "orig_nbformat": 4,
  "vscode": {
   "interpreter": {
    "hash": "11841742d11f96be4de93e6e6c2ae1e3a22839abf86213b3c23c4bf0c62307b4"
   }
  }
 },
 "nbformat": 4,
 "nbformat_minor": 2
}
