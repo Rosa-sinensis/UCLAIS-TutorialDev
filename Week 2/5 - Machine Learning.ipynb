{
 "cells": [
  {
   "cell_type": "markdown",
   "metadata": {},
   "source": [
    "## 5. Machine Learning Library 🤖\n",
    "Very briefly, Machine Learning algorithm can be divided into two main categories; the classical one (such as linear regression, SVM, etc) and deep learning (involves neural network)\n",
    "We will be looking at each library (or maybe some of it) during a later stage of our tutorial.\n"
   ]
  },
  {
   "cell_type": "markdown",
   "metadata": {},
   "source": [
    "### 5.1 Scikit-Learn\n",
    "\n",
    "Scikit-learn is a library in Python that provides many unsupervised and supervised learning algorithms. It’s built upon some of the technology you might already be familiar with, like NumPy, pandas, and Matplotlib!\n",
    "\n",
    "- There is a vast collection of ML algorithms that are all included (It’s like a repo, but a repo of ML algorithm)\n",
    "- An amazing way to get a handle of what different types of models do, as well as giving some intuition about some algorithm perform"
   ]
  },
  {
   "cell_type": "markdown",
   "metadata": {},
   "source": [
    "##### 5.1.1 Example\n",
    "\n",
    "For our first ML example that we will be doing, we are going to look at PENGUIN 🐧. We will have a dataset called 'penguins.csv' which contains data of 344 cute penguins. In this dataset, there are 3 different species of penguins coming from 3 islands in the Palmer Archipelago. These three classes are Adelie, Chinstrap, and Gentoo. Also, these datasets contain culmen dimensions for each species. This dataset is created by Dr.Kristen Gorman and the Palmer Station, Antarctica LTER.\n",
    "\n",
    "If you want to have a deeper look at this dataset, search 'Palmer Penguin dataset' in your favourite search engine.\n",
    "\n",
    "The aim of our model is to be able to predict which species the penguin are (either Adelie, Chinstrap, and Gentoo) given some information (or formally called feature in the ML world)"
   ]
  },
  {
   "cell_type": "markdown",
   "metadata": {},
   "source": [
    "<b>Import Relevant Libraries</b>\n",
    "\n",
    "So, let's get started. As always, the first step is always to import the relevant library first"
   ]
  },
  {
   "cell_type": "code",
   "execution_count": 1,
   "metadata": {},
   "outputs": [],
   "source": [
    "import pandas as pd                     \n",
    "import math\n",
    "from sklearn import svm             # Fetch a module called svm from sklearn library\n",
    "from sklearn.metrics import accuracy_score, confusion_matrix         # Fetch a module called metrics from sklearn library"
   ]
  },
  {
   "cell_type": "markdown",
   "metadata": {},
   "source": [
    "<b>Make a simple sklearn classifier</b>\n",
    "\n",
    "First, read the data in using pandas.read_csv(). Note that the final column contains the class_type field that we are interested in."
   ]
  },
  {
   "cell_type": "code",
   "execution_count": 2,
   "metadata": {},
   "outputs": [
    {
     "data": {
      "text/html": [
       "<div>\n",
       "<style scoped>\n",
       "    .dataframe tbody tr th:only-of-type {\n",
       "        vertical-align: middle;\n",
       "    }\n",
       "\n",
       "    .dataframe tbody tr th {\n",
       "        vertical-align: top;\n",
       "    }\n",
       "\n",
       "    .dataframe thead th {\n",
       "        text-align: right;\n",
       "    }\n",
       "</style>\n",
       "<table border=\"1\" class=\"dataframe\">\n",
       "  <thead>\n",
       "    <tr style=\"text-align: right;\">\n",
       "      <th></th>\n",
       "      <th>species</th>\n",
       "      <th>island</th>\n",
       "      <th>culmen_length_mm</th>\n",
       "      <th>culmen_depth_mm</th>\n",
       "      <th>flipper_length_mm</th>\n",
       "      <th>body_mass_g</th>\n",
       "      <th>sex</th>\n",
       "    </tr>\n",
       "  </thead>\n",
       "  <tbody>\n",
       "    <tr>\n",
       "      <th>0</th>\n",
       "      <td>Adelie</td>\n",
       "      <td>Torgersen</td>\n",
       "      <td>39.1</td>\n",
       "      <td>18.7</td>\n",
       "      <td>181.0</td>\n",
       "      <td>3750.0</td>\n",
       "      <td>MALE</td>\n",
       "    </tr>\n",
       "    <tr>\n",
       "      <th>1</th>\n",
       "      <td>Adelie</td>\n",
       "      <td>Torgersen</td>\n",
       "      <td>39.5</td>\n",
       "      <td>17.4</td>\n",
       "      <td>186.0</td>\n",
       "      <td>3800.0</td>\n",
       "      <td>FEMALE</td>\n",
       "    </tr>\n",
       "    <tr>\n",
       "      <th>2</th>\n",
       "      <td>Adelie</td>\n",
       "      <td>Torgersen</td>\n",
       "      <td>40.3</td>\n",
       "      <td>18.0</td>\n",
       "      <td>195.0</td>\n",
       "      <td>3250.0</td>\n",
       "      <td>FEMALE</td>\n",
       "    </tr>\n",
       "    <tr>\n",
       "      <th>3</th>\n",
       "      <td>Adelie</td>\n",
       "      <td>Torgersen</td>\n",
       "      <td>NaN</td>\n",
       "      <td>NaN</td>\n",
       "      <td>NaN</td>\n",
       "      <td>NaN</td>\n",
       "      <td>NaN</td>\n",
       "    </tr>\n",
       "    <tr>\n",
       "      <th>4</th>\n",
       "      <td>Adelie</td>\n",
       "      <td>Torgersen</td>\n",
       "      <td>36.7</td>\n",
       "      <td>19.3</td>\n",
       "      <td>193.0</td>\n",
       "      <td>3450.0</td>\n",
       "      <td>FEMALE</td>\n",
       "    </tr>\n",
       "    <tr>\n",
       "      <th>5</th>\n",
       "      <td>Adelie</td>\n",
       "      <td>Torgersen</td>\n",
       "      <td>39.3</td>\n",
       "      <td>20.6</td>\n",
       "      <td>190.0</td>\n",
       "      <td>3650.0</td>\n",
       "      <td>MALE</td>\n",
       "    </tr>\n",
       "  </tbody>\n",
       "</table>\n",
       "</div>"
      ],
      "text/plain": [
       "  species     island  culmen_length_mm  culmen_depth_mm  flipper_length_mm  \\\n",
       "0  Adelie  Torgersen              39.1             18.7              181.0   \n",
       "1  Adelie  Torgersen              39.5             17.4              186.0   \n",
       "2  Adelie  Torgersen              40.3             18.0              195.0   \n",
       "3  Adelie  Torgersen               NaN              NaN                NaN   \n",
       "4  Adelie  Torgersen              36.7             19.3              193.0   \n",
       "5  Adelie  Torgersen              39.3             20.6              190.0   \n",
       "\n",
       "   body_mass_g     sex  \n",
       "0       3750.0    MALE  \n",
       "1       3800.0  FEMALE  \n",
       "2       3250.0  FEMALE  \n",
       "3          NaN     NaN  \n",
       "4       3450.0  FEMALE  \n",
       "5       3650.0    MALE  "
      ]
     },
     "execution_count": 2,
     "metadata": {},
     "output_type": "execute_result"
    }
   ],
   "source": [
    "data = pd.read_csv(\"penguins.csv\")               # Change the location of the file if it is not in the current directory\n",
    "data.head(6)                                # Take a look at the top 6 rows in the class"
   ]
  },
  {
   "cell_type": "markdown",
   "metadata": {},
   "source": [
    "<b>Data Preprocessing</b>\n",
    "\n",
    "For this step, we transform our data to a 'higher-quality' format. This comes from the idea that for a model to be accurate and precise in predictions is that the algorithm should be able to easily interpret the data's features. \n",
    "\n",
    "Some main step involved in this process is:\n",
    "- Data Cleaning\n",
    "- Data Transformation\n",
    "- Data Reduction (Dimensionality Reduction)\n",
    "\n",
    "We will look further into these steps during future lecture. If you want to look further, [this is a wonderful resource](https://developer.ibm.com/articles/data-preprocessing-in-detail/) is a which describes data preprocessing in a concise way.\n",
    "\n",
    "For now, we will just simply delete features that are non-numerical, which are 'island' and 'sex'. If you're wondering why can't we just change those features into numerical feature by classifying each entry in the feature by some value, we definitely can. But the content creator is just too lazy for this. Try it for yourself and see whether including 'island' and 'sex' feature does improve the model."
   ]
  },
  {
   "cell_type": "code",
   "execution_count": 3,
   "metadata": {},
   "outputs": [
    {
     "data": {
      "text/html": [
       "<div>\n",
       "<style scoped>\n",
       "    .dataframe tbody tr th:only-of-type {\n",
       "        vertical-align: middle;\n",
       "    }\n",
       "\n",
       "    .dataframe tbody tr th {\n",
       "        vertical-align: top;\n",
       "    }\n",
       "\n",
       "    .dataframe thead th {\n",
       "        text-align: right;\n",
       "    }\n",
       "</style>\n",
       "<table border=\"1\" class=\"dataframe\">\n",
       "  <thead>\n",
       "    <tr style=\"text-align: right;\">\n",
       "      <th></th>\n",
       "      <th>species</th>\n",
       "      <th>culmen_length_mm</th>\n",
       "      <th>culmen_depth_mm</th>\n",
       "      <th>flipper_length_mm</th>\n",
       "      <th>body_mass_g</th>\n",
       "    </tr>\n",
       "  </thead>\n",
       "  <tbody>\n",
       "    <tr>\n",
       "      <th>0</th>\n",
       "      <td>Adelie</td>\n",
       "      <td>39.1</td>\n",
       "      <td>18.7</td>\n",
       "      <td>181.0</td>\n",
       "      <td>3750.0</td>\n",
       "    </tr>\n",
       "    <tr>\n",
       "      <th>1</th>\n",
       "      <td>Adelie</td>\n",
       "      <td>39.5</td>\n",
       "      <td>17.4</td>\n",
       "      <td>186.0</td>\n",
       "      <td>3800.0</td>\n",
       "    </tr>\n",
       "    <tr>\n",
       "      <th>2</th>\n",
       "      <td>Adelie</td>\n",
       "      <td>40.3</td>\n",
       "      <td>18.0</td>\n",
       "      <td>195.0</td>\n",
       "      <td>3250.0</td>\n",
       "    </tr>\n",
       "    <tr>\n",
       "      <th>3</th>\n",
       "      <td>Adelie</td>\n",
       "      <td>NaN</td>\n",
       "      <td>NaN</td>\n",
       "      <td>NaN</td>\n",
       "      <td>NaN</td>\n",
       "    </tr>\n",
       "    <tr>\n",
       "      <th>4</th>\n",
       "      <td>Adelie</td>\n",
       "      <td>36.7</td>\n",
       "      <td>19.3</td>\n",
       "      <td>193.0</td>\n",
       "      <td>3450.0</td>\n",
       "    </tr>\n",
       "  </tbody>\n",
       "</table>\n",
       "</div>"
      ],
      "text/plain": [
       "  species  culmen_length_mm  culmen_depth_mm  flipper_length_mm  body_mass_g\n",
       "0  Adelie              39.1             18.7              181.0       3750.0\n",
       "1  Adelie              39.5             17.4              186.0       3800.0\n",
       "2  Adelie              40.3             18.0              195.0       3250.0\n",
       "3  Adelie               NaN              NaN                NaN          NaN\n",
       "4  Adelie              36.7             19.3              193.0       3450.0"
      ]
     },
     "execution_count": 3,
     "metadata": {},
     "output_type": "execute_result"
    }
   ],
   "source": [
    "data_updated = data.drop(columns=['island', 'sex'])         # Drop 'island' and 'sex' features\n",
    "data_updated.head()"
   ]
  },
  {
   "cell_type": "markdown",
   "metadata": {},
   "source": [
    "Now, all of our data is in the numerical format right? NO!!! If you look closely. There's a NaN value in our dataset. A simple workaround for this is just delete those entry which has NaN value. This is another aspect that you can try play to improve your model. Try changing the NaN value to the mean of each column, or maybe the mode of each column."
   ]
  },
  {
   "cell_type": "code",
   "execution_count": 4,
   "metadata": {},
   "outputs": [
    {
     "data": {
      "text/html": [
       "<div>\n",
       "<style scoped>\n",
       "    .dataframe tbody tr th:only-of-type {\n",
       "        vertical-align: middle;\n",
       "    }\n",
       "\n",
       "    .dataframe tbody tr th {\n",
       "        vertical-align: top;\n",
       "    }\n",
       "\n",
       "    .dataframe thead th {\n",
       "        text-align: right;\n",
       "    }\n",
       "</style>\n",
       "<table border=\"1\" class=\"dataframe\">\n",
       "  <thead>\n",
       "    <tr style=\"text-align: right;\">\n",
       "      <th></th>\n",
       "      <th>species</th>\n",
       "      <th>culmen_length_mm</th>\n",
       "      <th>culmen_depth_mm</th>\n",
       "      <th>flipper_length_mm</th>\n",
       "      <th>body_mass_g</th>\n",
       "    </tr>\n",
       "  </thead>\n",
       "  <tbody>\n",
       "    <tr>\n",
       "      <th>0</th>\n",
       "      <td>Adelie</td>\n",
       "      <td>39.1</td>\n",
       "      <td>18.7</td>\n",
       "      <td>181.0</td>\n",
       "      <td>3750.0</td>\n",
       "    </tr>\n",
       "    <tr>\n",
       "      <th>1</th>\n",
       "      <td>Adelie</td>\n",
       "      <td>39.5</td>\n",
       "      <td>17.4</td>\n",
       "      <td>186.0</td>\n",
       "      <td>3800.0</td>\n",
       "    </tr>\n",
       "    <tr>\n",
       "      <th>2</th>\n",
       "      <td>Adelie</td>\n",
       "      <td>40.3</td>\n",
       "      <td>18.0</td>\n",
       "      <td>195.0</td>\n",
       "      <td>3250.0</td>\n",
       "    </tr>\n",
       "    <tr>\n",
       "      <th>4</th>\n",
       "      <td>Adelie</td>\n",
       "      <td>36.7</td>\n",
       "      <td>19.3</td>\n",
       "      <td>193.0</td>\n",
       "      <td>3450.0</td>\n",
       "    </tr>\n",
       "    <tr>\n",
       "      <th>5</th>\n",
       "      <td>Adelie</td>\n",
       "      <td>39.3</td>\n",
       "      <td>20.6</td>\n",
       "      <td>190.0</td>\n",
       "      <td>3650.0</td>\n",
       "    </tr>\n",
       "    <tr>\n",
       "      <th>...</th>\n",
       "      <td>...</td>\n",
       "      <td>...</td>\n",
       "      <td>...</td>\n",
       "      <td>...</td>\n",
       "      <td>...</td>\n",
       "    </tr>\n",
       "    <tr>\n",
       "      <th>338</th>\n",
       "      <td>Gentoo</td>\n",
       "      <td>47.2</td>\n",
       "      <td>13.7</td>\n",
       "      <td>214.0</td>\n",
       "      <td>4925.0</td>\n",
       "    </tr>\n",
       "    <tr>\n",
       "      <th>340</th>\n",
       "      <td>Gentoo</td>\n",
       "      <td>46.8</td>\n",
       "      <td>14.3</td>\n",
       "      <td>215.0</td>\n",
       "      <td>4850.0</td>\n",
       "    </tr>\n",
       "    <tr>\n",
       "      <th>341</th>\n",
       "      <td>Gentoo</td>\n",
       "      <td>50.4</td>\n",
       "      <td>15.7</td>\n",
       "      <td>222.0</td>\n",
       "      <td>5750.0</td>\n",
       "    </tr>\n",
       "    <tr>\n",
       "      <th>342</th>\n",
       "      <td>Gentoo</td>\n",
       "      <td>45.2</td>\n",
       "      <td>14.8</td>\n",
       "      <td>212.0</td>\n",
       "      <td>5200.0</td>\n",
       "    </tr>\n",
       "    <tr>\n",
       "      <th>343</th>\n",
       "      <td>Gentoo</td>\n",
       "      <td>49.9</td>\n",
       "      <td>16.1</td>\n",
       "      <td>213.0</td>\n",
       "      <td>5400.0</td>\n",
       "    </tr>\n",
       "  </tbody>\n",
       "</table>\n",
       "<p>342 rows × 5 columns</p>\n",
       "</div>"
      ],
      "text/plain": [
       "    species  culmen_length_mm  culmen_depth_mm  flipper_length_mm  body_mass_g\n",
       "0    Adelie              39.1             18.7              181.0       3750.0\n",
       "1    Adelie              39.5             17.4              186.0       3800.0\n",
       "2    Adelie              40.3             18.0              195.0       3250.0\n",
       "4    Adelie              36.7             19.3              193.0       3450.0\n",
       "5    Adelie              39.3             20.6              190.0       3650.0\n",
       "..      ...               ...              ...                ...          ...\n",
       "338  Gentoo              47.2             13.7              214.0       4925.0\n",
       "340  Gentoo              46.8             14.3              215.0       4850.0\n",
       "341  Gentoo              50.4             15.7              222.0       5750.0\n",
       "342  Gentoo              45.2             14.8              212.0       5200.0\n",
       "343  Gentoo              49.9             16.1              213.0       5400.0\n",
       "\n",
       "[342 rows x 5 columns]"
      ]
     },
     "metadata": {},
     "output_type": "display_data"
    }
   ],
   "source": [
    "data_updated = data_updated.dropna()\n",
    "display(data_updated)"
   ]
  },
  {
   "cell_type": "markdown",
   "metadata": {},
   "source": [
    "Now, it's time to split our dataset into two categories, which are training set and testing set.\n",
    "\n",
    "First, let's assign all our features into a variable called all_X, while all our labels into a variable called all_y"
   ]
  },
  {
   "cell_type": "code",
   "execution_count": 5,
   "metadata": {},
   "outputs": [
    {
     "data": {
      "text/plain": [
       "(342, 5)"
      ]
     },
     "execution_count": 5,
     "metadata": {},
     "output_type": "execute_result"
    }
   ],
   "source": [
    "data_updated.shape"
   ]
  },
  {
   "cell_type": "code",
   "execution_count": 6,
   "metadata": {},
   "outputs": [],
   "source": [
    "all_X = data_updated.iloc[:, 1:]\n",
    "all_y = data_updated.iloc[:, 0]"
   ]
  },
  {
   "cell_type": "code",
   "execution_count": 7,
   "metadata": {},
   "outputs": [],
   "source": [
    "from sklearn.model_selection import train_test_split\n",
    "\n",
    "X_train, X_test, y_train, y_test = train_test_split(all_X, all_y)"
   ]
  },
  {
   "cell_type": "code",
   "execution_count": 8,
   "metadata": {},
   "outputs": [
    {
     "name": "stdout",
     "output_type": "stream",
     "text": [
      "(256, 4) (86, 4) (256,) (86,)\n"
     ]
    }
   ],
   "source": [
    "print(X_train.shape, X_test.shape, y_train.shape, y_test.shape)"
   ]
  },
  {
   "cell_type": "markdown",
   "metadata": {},
   "source": [
    "<b>Train and Evaluate the model</b>\n",
    "\n",
    "We just call the function `.fit()` to start the training of the model\n",
    "\n",
    "It's easy to swap in a different model of your choice."
   ]
  },
  {
   "cell_type": "code",
   "execution_count": 9,
   "metadata": {},
   "outputs": [
    {
     "data": {
      "text/plain": [
       "SVC()"
      ]
     },
     "execution_count": 9,
     "metadata": {},
     "output_type": "execute_result"
    }
   ],
   "source": [
    "clf = svm.SVC()\n",
    "clf.fit(X_train, y_train)  "
   ]
  },
  {
   "cell_type": "markdown",
   "metadata": {},
   "source": [
    "<b>Evaluate the model</b>\n",
    "\n",
    "To make a prediction, just call the fucntion `.predict()`\n",
    "Usually, we will use the unseen dataset (x_test) for our model to predict. This is because our main goal is we want to build a model that will be able to generalize well, meaning it can still perform well despite looking at dataset that it has never seen before "
   ]
  },
  {
   "cell_type": "code",
   "execution_count": 10,
   "metadata": {},
   "outputs": [],
   "source": [
    "predicted = clf.predict(X_test)\n"
   ]
  },
  {
   "cell_type": "markdown",
   "metadata": {},
   "source": [
    "We will use `.accuracy_score()` function to find the accuracy of our predicted dataset\n",
    "On top of that, `confusion_matrix()` will print a confusion matrix\n",
    "\n",
    "Click [here](https://towardsdatascience.com/understanding-confusion-matrix-a9ad42dcfd62) for further explanation on confusion matrix"
   ]
  },
  {
   "cell_type": "code",
   "execution_count": 11,
   "metadata": {},
   "outputs": [
    {
     "name": "stdout",
     "output_type": "stream",
     "text": [
      "Accuracy (using SVM):  0.6976744186046512\n",
      "[[38 19  1]\n",
      " [ 0  0  0]\n",
      " [ 4  2 22]]\n"
     ]
    }
   ],
   "source": [
    "scikit_accuracy = accuracy_score(predicted, y_test)\n",
    "print(\"Accuracy (using SVM): \", scikit_accuracy)\n",
    "print(confusion_matrix(predicted, y_test))"
   ]
  },
  {
   "cell_type": "markdown",
   "metadata": {},
   "source": [
    "#### 5.1.2 Further Resources\n",
    "\n",
    "- [Scikit-Learn Tutorials](https://scikit-learn.org/stable/tutorial/index.html)\n",
    "- [Kaggle - Scikit-learn From Start to Finish](https://www.kaggle.com/code/jeffd23/scikit-learn-ml-from-start-to-finish)\n",
    "- [Cheat Sheet](https://s3.amazonaws.com/assets.datacamp.com/blog_assets/Scikit_Learn_Cheat_Sheet_Python.pdf)\n",
    "- [Documentation](https://scikit-learn.org/stable/modules/classes.html)"
   ]
  },
  {
   "cell_type": "markdown",
   "metadata": {},
   "source": [
    "### 5.2 TensorFlow\n",
    "\n",
    "TensorFlow is a library that makes machine learning and particularly developing neural networks faster and easier. It is mainly used for developing deep learning model. It makes building models easier, faster and more reproducible"
   ]
  },
  {
   "cell_type": "markdown",
   "metadata": {},
   "source": [
    "#### 5.2.1 Example\n",
    "\n",
    "For this example, we will build a simple neural network to solve the same problem, which is to predict the species of a penguin given some features.\n",
    "\n",
    "*Note that the exact same dataset (which has been preprocessed at earlier stage) will be used for the training of neural network"
   ]
  },
  {
   "cell_type": "markdown",
   "metadata": {},
   "source": [
    "<b>Import relevant libraries</b>\n",
    "\n",
    "As always, lets import the relevant module"
   ]
  },
  {
   "cell_type": "code",
   "execution_count": 12,
   "metadata": {},
   "outputs": [],
   "source": [
    "import tensorflow as tf\n",
    "from tensorflow.keras.models import Sequential\n",
    "from tensorflow.keras.layers import Dense"
   ]
  },
  {
   "cell_type": "markdown",
   "metadata": {},
   "source": [
    "<b>Data Preprocessing</b>\n",
    " \n",
    "In the Data Preprocessing step, there are a few things that we need to do:\n",
    "\n",
    "1. <b>Convert our dataset (which are in Pandas Series and DataFrame) into Numpy Array</b>\n",
    "- The reason for doing this is Tensorflow prefer to process its input in Numpy-array datatype, or even better in TensorFlow tensor datatype\n",
    "\n",
    "2. <b>Transform our label (which is currently in String type) into one-hot embedding </b>\n",
    "- This is attributed to the format of output of our neural network (which is it contains an array of 3 element)\n",
    "\n",
    "3. <b>Standardize our features</b>\n",
    "- This is primarily because of what happens inside of the NN (vanishing gradient problem can easily occured when the range of the features are very large)"
   ]
  },
  {
   "cell_type": "markdown",
   "metadata": {},
   "source": [
    "Now, our dataset is still on Pandas Series and DataFrame type. We need to change it to Numpy array as Tensorflow (or rather, the function that we will call later) prefer to process its input in Numpy-array, or even better in TensorFlow tensor"
   ]
  },
  {
   "cell_type": "code",
   "execution_count": 13,
   "metadata": {},
   "outputs": [],
   "source": [
    "from tensorflow.keras.utils import to_categorical                       # to_categorical allows us to converts a class vector (integers) to binary class matrix.\n",
    "\n",
    "y_train = y_train.replace({'Adelie':0,'Chinstrap':1, 'Gentoo':2})       # Change the string in y_train into an integer\n",
    "y_test = y_test.replace({'Adelie':0,'Chinstrap':1, 'Gentoo':2})         # Change the string in y_test into an integer\n",
    "\n",
    "y_train = to_categorical(y_train)       # One-hot embedding\n",
    "y_test = to_categorical(y_test)         "
   ]
  },
  {
   "cell_type": "code",
   "execution_count": 14,
   "metadata": {},
   "outputs": [],
   "source": [
    "X_train = X_train.values            # Change X_train to numpy array\n",
    "X_test = X_test.values              # Change X_test from DataFrame to numpy array"
   ]
  },
  {
   "cell_type": "code",
   "execution_count": 15,
   "metadata": {},
   "outputs": [
    {
     "data": {
      "text/plain": [
       "array([[  37.6,   17. ,  185. , 3600. ],\n",
       "       [  42.7,   18.3,  196. , 4075. ],\n",
       "       [  41.3,   21.1,  195. , 4400. ],\n",
       "       ...,\n",
       "       [  45.6,   19.4,  194. , 3525. ],\n",
       "       [  49.9,   16.1,  213. , 5400. ],\n",
       "       [  45.7,   17. ,  195. , 3650. ]])"
      ]
     },
     "execution_count": 15,
     "metadata": {},
     "output_type": "execute_result"
    }
   ],
   "source": [
    "X_train"
   ]
  },
  {
   "cell_type": "markdown",
   "metadata": {},
   "source": [
    "To standardize our feature, the easy way is just to use the function provided by scikit-learn.\n",
    "\n",
    "What standardize does is that it subract our value by its mean and scale it to unit variance\n",
    "\n",
    "    z = (x - u) / s\n",
    "\n"
   ]
  },
  {
   "cell_type": "code",
   "execution_count": 16,
   "metadata": {},
   "outputs": [],
   "source": [
    "from sklearn.preprocessing import StandardScaler\n",
    "\n",
    "scaler = StandardScaler()\n",
    "X_train = scaler.fit_transform(X_train)\n",
    "X_test = scaler.fit_transform(X_test)"
   ]
  },
  {
   "cell_type": "code",
   "execution_count": 17,
   "metadata": {},
   "outputs": [
    {
     "data": {
      "text/plain": [
       "array([[ 1.16836996,  0.64746068, -0.0741341 , -0.48369524],\n",
       "       [ 0.50972586, -1.71415367,  0.89430126,  1.03473005],\n",
       "       [ 1.40621366,  0.64746068, -0.96186652, -1.22525177],\n",
       "       [-1.39302376, -0.13974411, -0.96186652, -1.36650063],\n",
       "       [ 1.77212705,  1.27722451,  0.49078652,  0.54035902]])"
      ]
     },
     "execution_count": 17,
     "metadata": {},
     "output_type": "execute_result"
    }
   ],
   "source": [
    "X_test[:5]"
   ]
  },
  {
   "cell_type": "markdown",
   "metadata": {},
   "source": [
    "Now, we can see that our input feature has been standardized. The value of each element is not wildly different as it is before the standardization operation is executed"
   ]
  },
  {
   "cell_type": "markdown",
   "metadata": {},
   "source": [
    "<b>Build and Compile Model</b>\n",
    "\n",
    "First, read the data in using pandas.read_csv(). Note that the final column contains the class_type field that we are interested in."
   ]
  },
  {
   "cell_type": "code",
   "execution_count": 18,
   "metadata": {},
   "outputs": [
    {
     "name": "stdout",
     "output_type": "stream",
     "text": [
      "Model: \"sequential\"\n",
      "_________________________________________________________________\n",
      " Layer (type)                Output Shape              Param #   \n",
      "=================================================================\n",
      " dense (Dense)               (None, 32)                160       \n",
      "                                                                 \n",
      " dense_1 (Dense)             (None, 128)               4224      \n",
      "                                                                 \n",
      " dense_2 (Dense)             (None, 128)               16512     \n",
      "                                                                 \n",
      " dense_3 (Dense)             (None, 64)                8256      \n",
      "                                                                 \n",
      " dense_4 (Dense)             (None, 3)                 195       \n",
      "                                                                 \n",
      "=================================================================\n",
      "Total params: 29,347\n",
      "Trainable params: 29,347\n",
      "Non-trainable params: 0\n",
      "_________________________________________________________________\n"
     ]
    }
   ],
   "source": [
    "model = Sequential()\n",
    "model.add(Dense(units=32, activation='relu', input_dim=len(X_train[0])))\n",
    "model.add(Dense(units=128, activation='relu'))\n",
    "model.add(Dense(units=128, activation='relu'))\n",
    "model.add(Dense(units=64, activation='relu'))\n",
    "model.add(Dense(units=3, activation='sigmoid'))\n",
    "\n",
    "model.summary()             # Print the summary of our model"
   ]
  },
  {
   "cell_type": "markdown",
   "metadata": {},
   "source": [
    "`.compile()` function used below is to compile our model. When we compile our model, what we're basically doing is telling TensorFlow how we want our model to be trained"
   ]
  },
  {
   "cell_type": "code",
   "execution_count": 19,
   "metadata": {},
   "outputs": [],
   "source": [
    "optimizer = tf.keras.optimizers.SGD(learning_rate=0.001)\n",
    "model.compile(loss='categorical_crossentropy',\n",
    "              optimizer=optimizer,\n",
    "              metrics=['accuracy'])"
   ]
  },
  {
   "cell_type": "markdown",
   "metadata": {},
   "source": [
    "<b>Fit, Predict and Evaluate</b>"
   ]
  },
  {
   "cell_type": "markdown",
   "metadata": {},
   "source": [
    "Before we start training our neural network, there is one problem with our dataset, which is our label is in string format (meaning it is in words). And generally, neural network can't accept string format, hence we need to encode the value into a numerical format."
   ]
  },
  {
   "cell_type": "markdown",
   "metadata": {},
   "source": [
    "Now, we're ready to start our training by calling `.fit()` function"
   ]
  },
  {
   "cell_type": "code",
   "execution_count": 20,
   "metadata": {},
   "outputs": [
    {
     "name": "stdout",
     "output_type": "stream",
     "text": [
      "Epoch 1/200\n",
      "4/4 [==============================] - 0s 13ms/step - loss: 1.0691 - accuracy: 0.4414\n",
      "Epoch 2/200\n",
      "4/4 [==============================] - 0s 11ms/step - loss: 1.0662 - accuracy: 0.4414\n",
      "Epoch 3/200\n",
      "4/4 [==============================] - 0s 9ms/step - loss: 1.0632 - accuracy: 0.4531\n",
      "Epoch 4/200\n",
      "4/4 [==============================] - 0s 8ms/step - loss: 1.0604 - accuracy: 0.4688\n",
      "Epoch 5/200\n",
      "4/4 [==============================] - 0s 8ms/step - loss: 1.0575 - accuracy: 0.4883\n",
      "Epoch 6/200\n",
      "4/4 [==============================] - 0s 9ms/step - loss: 1.0547 - accuracy: 0.4922\n",
      "Epoch 7/200\n",
      "4/4 [==============================] - 0s 8ms/step - loss: 1.0518 - accuracy: 0.5039\n",
      "Epoch 8/200\n",
      "4/4 [==============================] - 0s 9ms/step - loss: 1.0490 - accuracy: 0.5078\n",
      "Epoch 9/200\n",
      "4/4 [==============================] - 0s 8ms/step - loss: 1.0462 - accuracy: 0.5234\n",
      "Epoch 10/200\n",
      "4/4 [==============================] - 0s 8ms/step - loss: 1.0434 - accuracy: 0.5312\n",
      "Epoch 11/200\n",
      "4/4 [==============================] - 0s 9ms/step - loss: 1.0406 - accuracy: 0.5352\n",
      "Epoch 12/200\n",
      "4/4 [==============================] - 0s 11ms/step - loss: 1.0377 - accuracy: 0.5469\n",
      "Epoch 13/200\n",
      "4/4 [==============================] - 0s 12ms/step - loss: 1.0349 - accuracy: 0.5664\n",
      "Epoch 14/200\n",
      "4/4 [==============================] - 0s 11ms/step - loss: 1.0321 - accuracy: 0.5938\n",
      "Epoch 15/200\n",
      "4/4 [==============================] - 0s 12ms/step - loss: 1.0293 - accuracy: 0.6094\n",
      "Epoch 16/200\n",
      "4/4 [==============================] - 0s 11ms/step - loss: 1.0265 - accuracy: 0.6328\n",
      "Epoch 17/200\n",
      "4/4 [==============================] - 0s 9ms/step - loss: 1.0237 - accuracy: 0.6797\n",
      "Epoch 18/200\n",
      "4/4 [==============================] - 0s 9ms/step - loss: 1.0209 - accuracy: 0.6914\n",
      "Epoch 19/200\n",
      "4/4 [==============================] - 0s 8ms/step - loss: 1.0181 - accuracy: 0.7188\n",
      "Epoch 20/200\n",
      "4/4 [==============================] - 0s 8ms/step - loss: 1.0153 - accuracy: 0.7695\n",
      "Epoch 21/200\n",
      "4/4 [==============================] - 0s 8ms/step - loss: 1.0126 - accuracy: 0.7773\n",
      "Epoch 22/200\n",
      "4/4 [==============================] - 0s 8ms/step - loss: 1.0098 - accuracy: 0.7852\n",
      "Epoch 23/200\n",
      "4/4 [==============================] - 0s 8ms/step - loss: 1.0071 - accuracy: 0.7891\n",
      "Epoch 24/200\n",
      "4/4 [==============================] - 0s 9ms/step - loss: 1.0043 - accuracy: 0.7969\n",
      "Epoch 25/200\n",
      "4/4 [==============================] - 0s 8ms/step - loss: 1.0016 - accuracy: 0.8086\n",
      "Epoch 26/200\n",
      "4/4 [==============================] - 0s 10ms/step - loss: 0.9988 - accuracy: 0.8086\n",
      "Epoch 27/200\n",
      "4/4 [==============================] - 0s 12ms/step - loss: 0.9961 - accuracy: 0.8086\n",
      "Epoch 28/200\n",
      "4/4 [==============================] - 0s 11ms/step - loss: 0.9933 - accuracy: 0.8125\n",
      "Epoch 29/200\n",
      "4/4 [==============================] - 0s 11ms/step - loss: 0.9906 - accuracy: 0.8164\n",
      "Epoch 30/200\n",
      "4/4 [==============================] - 0s 11ms/step - loss: 0.9879 - accuracy: 0.8164\n",
      "Epoch 31/200\n",
      "4/4 [==============================] - 0s 11ms/step - loss: 0.9851 - accuracy: 0.8164\n",
      "Epoch 32/200\n",
      "4/4 [==============================] - 0s 11ms/step - loss: 0.9823 - accuracy: 0.8164\n",
      "Epoch 33/200\n",
      "4/4 [==============================] - 0s 11ms/step - loss: 0.9796 - accuracy: 0.8164\n",
      "Epoch 34/200\n",
      "4/4 [==============================] - 0s 9ms/step - loss: 0.9769 - accuracy: 0.8164\n",
      "Epoch 35/200\n",
      "4/4 [==============================] - 0s 8ms/step - loss: 0.9741 - accuracy: 0.8164\n",
      "Epoch 36/200\n",
      "4/4 [==============================] - 0s 8ms/step - loss: 0.9714 - accuracy: 0.8164\n",
      "Epoch 37/200\n",
      "4/4 [==============================] - 0s 8ms/step - loss: 0.9687 - accuracy: 0.8164\n",
      "Epoch 38/200\n",
      "4/4 [==============================] - 0s 8ms/step - loss: 0.9660 - accuracy: 0.8164\n",
      "Epoch 39/200\n",
      "4/4 [==============================] - 0s 9ms/step - loss: 0.9633 - accuracy: 0.8164\n",
      "Epoch 40/200\n",
      "4/4 [==============================] - 0s 8ms/step - loss: 0.9606 - accuracy: 0.8164\n",
      "Epoch 41/200\n",
      "4/4 [==============================] - 0s 8ms/step - loss: 0.9579 - accuracy: 0.8164\n",
      "Epoch 42/200\n",
      "4/4 [==============================] - 0s 8ms/step - loss: 0.9552 - accuracy: 0.8164\n",
      "Epoch 43/200\n",
      "4/4 [==============================] - 0s 14ms/step - loss: 0.9525 - accuracy: 0.8164\n",
      "Epoch 44/200\n",
      "4/4 [==============================] - 0s 12ms/step - loss: 0.9499 - accuracy: 0.8164\n",
      "Epoch 45/200\n",
      "4/4 [==============================] - 0s 10ms/step - loss: 0.9472 - accuracy: 0.8164\n",
      "Epoch 46/200\n",
      "4/4 [==============================] - 0s 11ms/step - loss: 0.9445 - accuracy: 0.8164\n",
      "Epoch 47/200\n",
      "4/4 [==============================] - 0s 12ms/step - loss: 0.9419 - accuracy: 0.8164\n",
      "Epoch 48/200\n",
      "4/4 [==============================] - 0s 9ms/step - loss: 0.9392 - accuracy: 0.8164\n",
      "Epoch 49/200\n",
      "4/4 [==============================] - 0s 9ms/step - loss: 0.9366 - accuracy: 0.8164\n",
      "Epoch 50/200\n",
      "4/4 [==============================] - 0s 8ms/step - loss: 0.9340 - accuracy: 0.8164\n",
      "Epoch 51/200\n",
      "4/4 [==============================] - 0s 8ms/step - loss: 0.9314 - accuracy: 0.8164\n",
      "Epoch 52/200\n",
      "4/4 [==============================] - 0s 8ms/step - loss: 0.9288 - accuracy: 0.8164\n",
      "Epoch 53/200\n",
      "4/4 [==============================] - 0s 8ms/step - loss: 0.9262 - accuracy: 0.8164\n",
      "Epoch 54/200\n",
      "4/4 [==============================] - 0s 9ms/step - loss: 0.9236 - accuracy: 0.8164\n",
      "Epoch 55/200\n",
      "4/4 [==============================] - 0s 8ms/step - loss: 0.9211 - accuracy: 0.8164\n",
      "Epoch 56/200\n",
      "4/4 [==============================] - 0s 8ms/step - loss: 0.9185 - accuracy: 0.8164\n",
      "Epoch 57/200\n",
      "4/4 [==============================] - 0s 9ms/step - loss: 0.9160 - accuracy: 0.8164\n",
      "Epoch 58/200\n",
      "4/4 [==============================] - 0s 12ms/step - loss: 0.9134 - accuracy: 0.8164\n",
      "Epoch 59/200\n",
      "4/4 [==============================] - 0s 11ms/step - loss: 0.9109 - accuracy: 0.8164\n",
      "Epoch 60/200\n",
      "4/4 [==============================] - 0s 12ms/step - loss: 0.9084 - accuracy: 0.8164\n",
      "Epoch 61/200\n",
      "4/4 [==============================] - 0s 11ms/step - loss: 0.9058 - accuracy: 0.8164\n",
      "Epoch 62/200\n",
      "4/4 [==============================] - 0s 11ms/step - loss: 0.9033 - accuracy: 0.8164\n",
      "Epoch 63/200\n",
      "4/4 [==============================] - 0s 10ms/step - loss: 0.9008 - accuracy: 0.8164\n",
      "Epoch 64/200\n",
      "4/4 [==============================] - 0s 11ms/step - loss: 0.8983 - accuracy: 0.8164\n",
      "Epoch 65/200\n",
      "4/4 [==============================] - 0s 11ms/step - loss: 0.8958 - accuracy: 0.8164\n",
      "Epoch 66/200\n",
      "4/4 [==============================] - 0s 9ms/step - loss: 0.8933 - accuracy: 0.8164\n",
      "Epoch 67/200\n",
      "4/4 [==============================] - 0s 9ms/step - loss: 0.8908 - accuracy: 0.8164\n",
      "Epoch 68/200\n",
      "4/4 [==============================] - 0s 8ms/step - loss: 0.8884 - accuracy: 0.8164\n",
      "Epoch 69/200\n",
      "4/4 [==============================] - 0s 8ms/step - loss: 0.8859 - accuracy: 0.8164\n",
      "Epoch 70/200\n",
      "4/4 [==============================] - 0s 9ms/step - loss: 0.8834 - accuracy: 0.8164\n",
      "Epoch 71/200\n",
      "4/4 [==============================] - 0s 8ms/step - loss: 0.8810 - accuracy: 0.8164\n",
      "Epoch 72/200\n",
      "4/4 [==============================] - 0s 8ms/step - loss: 0.8785 - accuracy: 0.8164\n",
      "Epoch 73/200\n",
      "4/4 [==============================] - 0s 9ms/step - loss: 0.8761 - accuracy: 0.8164\n",
      "Epoch 74/200\n",
      "4/4 [==============================] - 0s 8ms/step - loss: 0.8736 - accuracy: 0.8164\n",
      "Epoch 75/200\n",
      "4/4 [==============================] - 0s 10ms/step - loss: 0.8712 - accuracy: 0.8164\n",
      "Epoch 76/200\n",
      "4/4 [==============================] - 0s 11ms/step - loss: 0.8688 - accuracy: 0.8164\n",
      "Epoch 77/200\n",
      "4/4 [==============================] - 0s 11ms/step - loss: 0.8664 - accuracy: 0.8164\n",
      "Epoch 78/200\n",
      "4/4 [==============================] - 0s 11ms/step - loss: 0.8639 - accuracy: 0.8164\n",
      "Epoch 79/200\n",
      "4/4 [==============================] - 0s 11ms/step - loss: 0.8615 - accuracy: 0.8164\n",
      "Epoch 80/200\n",
      "4/4 [==============================] - 0s 11ms/step - loss: 0.8591 - accuracy: 0.8164\n",
      "Epoch 81/200\n",
      "4/4 [==============================] - 0s 11ms/step - loss: 0.8567 - accuracy: 0.8164\n",
      "Epoch 82/200\n",
      "4/4 [==============================] - 0s 11ms/step - loss: 0.8543 - accuracy: 0.8164\n",
      "Epoch 83/200\n",
      "4/4 [==============================] - 0s 10ms/step - loss: 0.8520 - accuracy: 0.8164\n",
      "Epoch 84/200\n",
      "4/4 [==============================] - 0s 10ms/step - loss: 0.8496 - accuracy: 0.8164\n",
      "Epoch 85/200\n",
      "4/4 [==============================] - 0s 12ms/step - loss: 0.8472 - accuracy: 0.8164\n",
      "Epoch 86/200\n",
      "4/4 [==============================] - 0s 11ms/step - loss: 0.8448 - accuracy: 0.8164\n",
      "Epoch 87/200\n",
      "4/4 [==============================] - 0s 12ms/step - loss: 0.8424 - accuracy: 0.8164\n",
      "Epoch 88/200\n",
      "4/4 [==============================] - 0s 8ms/step - loss: 0.8400 - accuracy: 0.8164\n",
      "Epoch 89/200\n",
      "4/4 [==============================] - 0s 8ms/step - loss: 0.8377 - accuracy: 0.8164\n",
      "Epoch 90/200\n",
      "4/4 [==============================] - 0s 8ms/step - loss: 0.8353 - accuracy: 0.8164\n",
      "Epoch 91/200\n",
      "4/4 [==============================] - 0s 8ms/step - loss: 0.8329 - accuracy: 0.8164\n",
      "Epoch 92/200\n",
      "4/4 [==============================] - 0s 8ms/step - loss: 0.8306 - accuracy: 0.8164\n",
      "Epoch 93/200\n",
      "4/4 [==============================] - 0s 8ms/step - loss: 0.8282 - accuracy: 0.8164\n",
      "Epoch 94/200\n",
      "4/4 [==============================] - 0s 8ms/step - loss: 0.8259 - accuracy: 0.8164\n",
      "Epoch 95/200\n",
      "4/4 [==============================] - 0s 9ms/step - loss: 0.8235 - accuracy: 0.8164\n",
      "Epoch 96/200\n",
      "4/4 [==============================] - 0s 8ms/step - loss: 0.8212 - accuracy: 0.8164\n",
      "Epoch 97/200\n",
      "4/4 [==============================] - 0s 11ms/step - loss: 0.8189 - accuracy: 0.8164\n",
      "Epoch 98/200\n",
      "4/4 [==============================] - 0s 11ms/step - loss: 0.8165 - accuracy: 0.8164\n",
      "Epoch 99/200\n",
      "4/4 [==============================] - 0s 11ms/step - loss: 0.8142 - accuracy: 0.8164\n",
      "Epoch 100/200\n",
      "4/4 [==============================] - 0s 10ms/step - loss: 0.8119 - accuracy: 0.8164\n",
      "Epoch 101/200\n",
      "4/4 [==============================] - 0s 11ms/step - loss: 0.8095 - accuracy: 0.8164\n",
      "Epoch 102/200\n",
      "4/4 [==============================] - 0s 12ms/step - loss: 0.8073 - accuracy: 0.8164\n",
      "Epoch 103/200\n",
      "4/4 [==============================] - 0s 10ms/step - loss: 0.8049 - accuracy: 0.8164\n",
      "Epoch 104/200\n",
      "4/4 [==============================] - 0s 8ms/step - loss: 0.8026 - accuracy: 0.8164\n",
      "Epoch 105/200\n",
      "4/4 [==============================] - 0s 8ms/step - loss: 0.8003 - accuracy: 0.8164\n",
      "Epoch 106/200\n",
      "4/4 [==============================] - 0s 8ms/step - loss: 0.7980 - accuracy: 0.8164\n",
      "Epoch 107/200\n",
      "4/4 [==============================] - 0s 9ms/step - loss: 0.7957 - accuracy: 0.8164\n",
      "Epoch 108/200\n",
      "4/4 [==============================] - 0s 8ms/step - loss: 0.7935 - accuracy: 0.8164\n",
      "Epoch 109/200\n",
      "4/4 [==============================] - 0s 9ms/step - loss: 0.7912 - accuracy: 0.8164\n",
      "Epoch 110/200\n",
      "4/4 [==============================] - 0s 8ms/step - loss: 0.7889 - accuracy: 0.8164\n",
      "Epoch 111/200\n",
      "4/4 [==============================] - 0s 9ms/step - loss: 0.7866 - accuracy: 0.8164\n",
      "Epoch 112/200\n",
      "4/4 [==============================] - 0s 9ms/step - loss: 0.7844 - accuracy: 0.8164\n",
      "Epoch 113/200\n",
      "4/4 [==============================] - 0s 8ms/step - loss: 0.7821 - accuracy: 0.8164\n",
      "Epoch 114/200\n",
      "4/4 [==============================] - 0s 8ms/step - loss: 0.7799 - accuracy: 0.8164\n",
      "Epoch 115/200\n",
      "4/4 [==============================] - 0s 10ms/step - loss: 0.7776 - accuracy: 0.8164\n",
      "Epoch 116/200\n",
      "4/4 [==============================] - 0s 10ms/step - loss: 0.7754 - accuracy: 0.8164\n",
      "Epoch 117/200\n",
      "4/4 [==============================] - 0s 11ms/step - loss: 0.7731 - accuracy: 0.8164\n",
      "Epoch 118/200\n",
      "4/4 [==============================] - 0s 11ms/step - loss: 0.7709 - accuracy: 0.8164\n",
      "Epoch 119/200\n",
      "4/4 [==============================] - 0s 11ms/step - loss: 0.7687 - accuracy: 0.8164\n",
      "Epoch 120/200\n",
      "4/4 [==============================] - 0s 11ms/step - loss: 0.7664 - accuracy: 0.8164\n",
      "Epoch 121/200\n",
      "4/4 [==============================] - 0s 8ms/step - loss: 0.7642 - accuracy: 0.8164\n",
      "Epoch 122/200\n",
      "4/4 [==============================] - 0s 8ms/step - loss: 0.7620 - accuracy: 0.8164\n",
      "Epoch 123/200\n",
      "4/4 [==============================] - 0s 9ms/step - loss: 0.7598 - accuracy: 0.8164\n",
      "Epoch 124/200\n",
      "4/4 [==============================] - 0s 8ms/step - loss: 0.7575 - accuracy: 0.8164\n",
      "Epoch 125/200\n",
      "4/4 [==============================] - 0s 8ms/step - loss: 0.7553 - accuracy: 0.8164\n",
      "Epoch 126/200\n",
      "4/4 [==============================] - 0s 9ms/step - loss: 0.7531 - accuracy: 0.8164\n",
      "Epoch 127/200\n",
      "4/4 [==============================] - 0s 9ms/step - loss: 0.7509 - accuracy: 0.8164\n",
      "Epoch 128/200\n",
      "4/4 [==============================] - 0s 8ms/step - loss: 0.7487 - accuracy: 0.8164\n",
      "Epoch 129/200\n",
      "4/4 [==============================] - 0s 11ms/step - loss: 0.7465 - accuracy: 0.8164\n",
      "Epoch 130/200\n",
      "4/4 [==============================] - 0s 11ms/step - loss: 0.7443 - accuracy: 0.8164\n",
      "Epoch 131/200\n",
      "4/4 [==============================] - 0s 10ms/step - loss: 0.7421 - accuracy: 0.8164\n",
      "Epoch 132/200\n",
      "4/4 [==============================] - 0s 11ms/step - loss: 0.7399 - accuracy: 0.8164\n",
      "Epoch 133/200\n",
      "4/4 [==============================] - 0s 11ms/step - loss: 0.7378 - accuracy: 0.8164\n",
      "Epoch 134/200\n",
      "4/4 [==============================] - 0s 12ms/step - loss: 0.7356 - accuracy: 0.8164\n",
      "Epoch 135/200\n",
      "4/4 [==============================] - 0s 10ms/step - loss: 0.7334 - accuracy: 0.8164\n",
      "Epoch 136/200\n",
      "4/4 [==============================] - 0s 8ms/step - loss: 0.7313 - accuracy: 0.8164\n",
      "Epoch 137/200\n",
      "4/4 [==============================] - 0s 8ms/step - loss: 0.7291 - accuracy: 0.8164\n",
      "Epoch 138/200\n",
      "4/4 [==============================] - 0s 8ms/step - loss: 0.7269 - accuracy: 0.8164\n",
      "Epoch 139/200\n",
      "4/4 [==============================] - 0s 8ms/step - loss: 0.7248 - accuracy: 0.8164\n",
      "Epoch 140/200\n",
      "4/4 [==============================] - 0s 8ms/step - loss: 0.7226 - accuracy: 0.8164\n",
      "Epoch 141/200\n",
      "4/4 [==============================] - 0s 8ms/step - loss: 0.7205 - accuracy: 0.8164\n",
      "Epoch 142/200\n",
      "4/4 [==============================] - 0s 8ms/step - loss: 0.7183 - accuracy: 0.8164\n",
      "Epoch 143/200\n",
      "4/4 [==============================] - 0s 11ms/step - loss: 0.7162 - accuracy: 0.8164\n",
      "Epoch 144/200\n",
      "4/4 [==============================] - 0s 10ms/step - loss: 0.7141 - accuracy: 0.8164\n",
      "Epoch 145/200\n",
      "4/4 [==============================] - 0s 12ms/step - loss: 0.7120 - accuracy: 0.8164\n",
      "Epoch 146/200\n",
      "4/4 [==============================] - 0s 11ms/step - loss: 0.7098 - accuracy: 0.8164\n",
      "Epoch 147/200\n",
      "4/4 [==============================] - 0s 11ms/step - loss: 0.7077 - accuracy: 0.8164\n",
      "Epoch 148/200\n",
      "4/4 [==============================] - 0s 11ms/step - loss: 0.7056 - accuracy: 0.8164\n",
      "Epoch 149/200\n",
      "4/4 [==============================] - 0s 8ms/step - loss: 0.7035 - accuracy: 0.8164\n",
      "Epoch 150/200\n",
      "4/4 [==============================] - 0s 9ms/step - loss: 0.7014 - accuracy: 0.8164\n",
      "Epoch 151/200\n",
      "4/4 [==============================] - 0s 8ms/step - loss: 0.6992 - accuracy: 0.8164\n",
      "Epoch 152/200\n",
      "4/4 [==============================] - 0s 8ms/step - loss: 0.6971 - accuracy: 0.8164\n",
      "Epoch 153/200\n",
      "4/4 [==============================] - 0s 9ms/step - loss: 0.6950 - accuracy: 0.8164\n",
      "Epoch 154/200\n",
      "4/4 [==============================] - 0s 9ms/step - loss: 0.6929 - accuracy: 0.8164\n",
      "Epoch 155/200\n",
      "4/4 [==============================] - 0s 13ms/step - loss: 0.6909 - accuracy: 0.8164\n",
      "Epoch 156/200\n",
      "4/4 [==============================] - 0s 11ms/step - loss: 0.6888 - accuracy: 0.8164\n",
      "Epoch 157/200\n",
      "4/4 [==============================] - 0s 11ms/step - loss: 0.6867 - accuracy: 0.8164\n",
      "Epoch 158/200\n",
      "4/4 [==============================] - 0s 12ms/step - loss: 0.6846 - accuracy: 0.8164\n",
      "Epoch 159/200\n",
      "4/4 [==============================] - 0s 11ms/step - loss: 0.6826 - accuracy: 0.8164\n",
      "Epoch 160/200\n",
      "4/4 [==============================] - 0s 11ms/step - loss: 0.6805 - accuracy: 0.8164\n",
      "Epoch 161/200\n",
      "4/4 [==============================] - 0s 11ms/step - loss: 0.6784 - accuracy: 0.8164\n",
      "Epoch 162/200\n",
      "4/4 [==============================] - 0s 10ms/step - loss: 0.6764 - accuracy: 0.8164\n",
      "Epoch 163/200\n",
      "4/4 [==============================] - 0s 11ms/step - loss: 0.6743 - accuracy: 0.8164\n",
      "Epoch 164/200\n",
      "4/4 [==============================] - 0s 11ms/step - loss: 0.6723 - accuracy: 0.8164\n",
      "Epoch 165/200\n",
      "4/4 [==============================] - 0s 10ms/step - loss: 0.6703 - accuracy: 0.8164\n",
      "Epoch 166/200\n",
      "4/4 [==============================] - 0s 9ms/step - loss: 0.6682 - accuracy: 0.8164\n",
      "Epoch 167/200\n",
      "4/4 [==============================] - 0s 8ms/step - loss: 0.6662 - accuracy: 0.8164\n",
      "Epoch 168/200\n",
      "4/4 [==============================] - 0s 11ms/step - loss: 0.6642 - accuracy: 0.8164\n",
      "Epoch 169/200\n",
      "4/4 [==============================] - 0s 11ms/step - loss: 0.6622 - accuracy: 0.8164\n",
      "Epoch 170/200\n",
      "4/4 [==============================] - 0s 11ms/step - loss: 0.6602 - accuracy: 0.8164\n",
      "Epoch 171/200\n",
      "4/4 [==============================] - 0s 12ms/step - loss: 0.6582 - accuracy: 0.8164\n",
      "Epoch 172/200\n",
      "4/4 [==============================] - 0s 11ms/step - loss: 0.6562 - accuracy: 0.8164\n",
      "Epoch 173/200\n",
      "4/4 [==============================] - 0s 10ms/step - loss: 0.6542 - accuracy: 0.8164\n",
      "Epoch 174/200\n",
      "4/4 [==============================] - 0s 10ms/step - loss: 0.6522 - accuracy: 0.8164\n",
      "Epoch 175/200\n",
      "4/4 [==============================] - 0s 9ms/step - loss: 0.6503 - accuracy: 0.8164\n",
      "Epoch 176/200\n",
      "4/4 [==============================] - 0s 8ms/step - loss: 0.6483 - accuracy: 0.8164\n",
      "Epoch 177/200\n",
      "4/4 [==============================] - 0s 9ms/step - loss: 0.6463 - accuracy: 0.8164\n",
      "Epoch 178/200\n",
      "4/4 [==============================] - 0s 8ms/step - loss: 0.6444 - accuracy: 0.8164\n",
      "Epoch 179/200\n",
      "4/4 [==============================] - 0s 8ms/step - loss: 0.6425 - accuracy: 0.8164\n",
      "Epoch 180/200\n",
      "4/4 [==============================] - 0s 9ms/step - loss: 0.6405 - accuracy: 0.8164\n",
      "Epoch 181/200\n",
      "4/4 [==============================] - 0s 8ms/step - loss: 0.6386 - accuracy: 0.8164\n",
      "Epoch 182/200\n",
      "4/4 [==============================] - 0s 8ms/step - loss: 0.6367 - accuracy: 0.8164\n",
      "Epoch 183/200\n",
      "4/4 [==============================] - 0s 11ms/step - loss: 0.6348 - accuracy: 0.8164\n",
      "Epoch 184/200\n",
      "4/4 [==============================] - 0s 11ms/step - loss: 0.6329 - accuracy: 0.8164\n",
      "Epoch 185/200\n",
      "4/4 [==============================] - 0s 11ms/step - loss: 0.6310 - accuracy: 0.8164\n",
      "Epoch 186/200\n",
      "4/4 [==============================] - 0s 11ms/step - loss: 0.6291 - accuracy: 0.8164\n",
      "Epoch 187/200\n",
      "4/4 [==============================] - 0s 11ms/step - loss: 0.6273 - accuracy: 0.8164\n",
      "Epoch 188/200\n",
      "4/4 [==============================] - 0s 11ms/step - loss: 0.6254 - accuracy: 0.8164\n",
      "Epoch 189/200\n",
      "4/4 [==============================] - 0s 10ms/step - loss: 0.6235 - accuracy: 0.8164\n",
      "Epoch 190/200\n",
      "4/4 [==============================] - 0s 9ms/step - loss: 0.6217 - accuracy: 0.8164\n",
      "Epoch 191/200\n",
      "4/4 [==============================] - 0s 8ms/step - loss: 0.6198 - accuracy: 0.8164\n",
      "Epoch 192/200\n",
      "4/4 [==============================] - 0s 8ms/step - loss: 0.6180 - accuracy: 0.8164\n",
      "Epoch 193/200\n",
      "4/4 [==============================] - 0s 8ms/step - loss: 0.6161 - accuracy: 0.8164\n",
      "Epoch 194/200\n",
      "4/4 [==============================] - 0s 8ms/step - loss: 0.6143 - accuracy: 0.8164\n",
      "Epoch 195/200\n",
      "4/4 [==============================] - 0s 8ms/step - loss: 0.6125 - accuracy: 0.8164\n",
      "Epoch 196/200\n",
      "4/4 [==============================] - 0s 11ms/step - loss: 0.6107 - accuracy: 0.8164\n",
      "Epoch 197/200\n",
      "4/4 [==============================] - 0s 11ms/step - loss: 0.6089 - accuracy: 0.8164\n",
      "Epoch 198/200\n",
      "4/4 [==============================] - 0s 11ms/step - loss: 0.6071 - accuracy: 0.8164\n",
      "Epoch 199/200\n",
      "4/4 [==============================] - 0s 11ms/step - loss: 0.6053 - accuracy: 0.8164\n",
      "Epoch 200/200\n",
      "4/4 [==============================] - 0s 11ms/step - loss: 0.6036 - accuracy: 0.8164\n"
     ]
    }
   ],
   "source": [
    "history = model.fit(X_train, y_train, epochs=200, batch_size=64)"
   ]
  },
  {
   "cell_type": "markdown",
   "metadata": {},
   "source": [
    "Once we have trained it, we can see how our model perform on each of the training epoch"
   ]
  },
  {
   "cell_type": "code",
   "execution_count": 21,
   "metadata": {},
   "outputs": [
    {
     "name": "stdout",
     "output_type": "stream",
     "text": [
      "dict_keys(['loss', 'accuracy'])\n"
     ]
    }
   ],
   "source": [
    "print(history.history.keys())"
   ]
  },
  {
   "cell_type": "code",
   "execution_count": 22,
   "metadata": {},
   "outputs": [
    {
     "name": "stdout",
     "output_type": "stream",
     "text": [
      "dict_keys(['loss', 'accuracy'])\n"
     ]
    },
    {
     "data": {
      "image/png": "[encoded data removed]",
      "text/plain": [
       "<Figure size 432x288 with 1 Axes>"
      ]
     },
     "metadata": {
      "needs_background": "light"
     },
     "output_type": "display_data"
    }
   ],
   "source": [
    "import matplotlib.pyplot as plt\n",
    "\n",
    "print(history.history.keys())\n",
    "\n",
    "# Summarize history for loss\n",
    "plt.plot(history.history['loss'])\n",
    "plt.title('model loss')\n",
    "plt.ylabel('loss')\n",
    "plt.xlabel('epoch')\n",
    "plt.legend(['train', 'test'], loc='upper right')\n",
    "plt.show()"
   ]
  },
  {
   "cell_type": "markdown",
   "metadata": {},
   "source": [
    "From the figure above, it looks like our model is performing better and better as the number of training (epoch) increases, which is a good sign!"
   ]
  },
  {
   "cell_type": "markdown",
   "metadata": {},
   "source": [
    "<b>Evaluate our model</b>\n",
    "\n",
    "And finally, once we have a model that seems to train quite well, we can proceed to the evaluation stage. In this stage, we are going to ask the model to predict on the dataset of penguin we have never seen before (which is X_test). To do this, in TensorFlow, we can just call `.predict()` and TensorFlow itself will do the heavy lifting of predicting the dataset that we pass "
   ]
  },
  {
   "cell_type": "code",
   "execution_count": 23,
   "metadata": {},
   "outputs": [
    {
     "name": "stdout",
     "output_type": "stream",
     "text": [
      "[[0.5532383  0.49222368 0.508822  ]\n",
      " [0.44127205 0.34365153 0.80116105]\n",
      " [0.59044737 0.4838285  0.45084012]\n",
      " [0.71344846 0.44517463 0.4325147 ]\n",
      " [0.5092306  0.46150824 0.6589286 ]\n",
      " [0.5026231  0.45798865 0.6236116 ]\n",
      " [0.43014523 0.31701198 0.84349155]\n",
      " [0.6326549  0.44301718 0.46770754]\n",
      " [0.40991753 0.33310026 0.8489966 ]\n",
      " [0.63234586 0.45948455 0.45848873]]\n"
     ]
    }
   ],
   "source": [
    "y_output = model.predict(X_test)            # Predict X_test by \n",
    "print(y_output[:10])                        # Print the top 10 rows of the produced output"
   ]
  },
  {
   "cell_type": "markdown",
   "metadata": {},
   "source": [
    "Let's take a moment and understand what does the produced output indicates.\n",
    "\n",
    "Remember that each row corresponds to a sample (Row 0 = Sample 0, Row 1 = Sample 1, ...). And from the output above, each row has an array with three elements. Each element actually represents the probability of how certain our neural network is with the corresponding label.\n",
    "\n",
    "Let's take a look at the array below\n",
    "        \n",
    "        [0.65591866 0.4409073  0.44767407]\n",
    "\n",
    "This array means that the probability of our NN to predict the sample to be 0 (Adelie) is ~0.655, and then to predict 1 (Chinstrap) is ~0.441, and to predict 2 (Gentoo) is ~0.448.\n",
    "From this, the logical thing to do is to take the label with the highest probability score to be labelled as predicted output. \n",
    "\n",
    "And now, our predicted output for this sample is Chinstrap"
   ]
  },
  {
   "cell_type": "code",
   "execution_count": 24,
   "metadata": {},
   "outputs": [
    {
     "name": "stdout",
     "output_type": "stream",
     "text": [
      "[0 2 0 0 2 2 2 0 2 0 0 0 2 2 2 2 2 2 2 0 2 2 0 2 0 2 0 2 0 2 2 0 0 2 0 0 0\n",
      " 0 0 2 0 0 0 2 2 0 0 0 2 2 0 0 2 0 0 0 2 0 2 0 0 0 2 0 0 2 0 2 0 0 0 0 0 0\n",
      " 0 0 0 2 0 0 0 0 0 2 0 2]\n"
     ]
    }
   ],
   "source": [
    "import numpy as np\n",
    "\n",
    "y_predicted = np.argmax(y_output, axis=1)       # For each row, take the index of the element with the highest probability\n",
    "print(y_predicted)"
   ]
  },
  {
   "cell_type": "code",
   "execution_count": 25,
   "metadata": {},
   "outputs": [
    {
     "name": "stdout",
     "output_type": "stream",
     "text": [
      "[1 2 1 0 1 1 2 0 2 0 1 1 2 2 2 2 2 2 2 0 2 2 1 2 1 2 0 1 0 1 1 0 1 2 1 0 0\n",
      " 0 0 1 0 0 0 1 2 0 0 0 1 2 0 0 2 1 1 0 1 0 1 0 0 0 2 0 0 2 0 2 0 0 0 0 0 0\n",
      " 0 0 0 1 0 0 0 0 0 2 0 2]\n"
     ]
    }
   ],
   "source": [
    "# We also need to convert our y_test so that it produces an array in which each element represents the index of the correct label\n",
    "y_expected = np.argmax(y_test, axis=1)\n",
    "print(y_expected)"
   ]
  },
  {
   "cell_type": "markdown",
   "metadata": {},
   "source": [
    "The code below is just to improve readability. What it does is basically convert all the embedding into the real label (which is the name of the species of penguin)"
   ]
  },
  {
   "cell_type": "code",
   "execution_count": 26,
   "metadata": {},
   "outputs": [],
   "source": [
    "def convert_to_label(array):\n",
    "    result = []\n",
    "    for y in array:\n",
    "        if y == 0:\n",
    "            y = 'Adelie'\n",
    "        elif y == 1:\n",
    "            y = 'Chinstrap'\n",
    "        elif y == 2:\n",
    "            y = 'Gentoo'\n",
    "        result.append(y)\n",
    "    \n",
    "    return result\n",
    "\n",
    "y_predicted_label = convert_to_label(y_predicted)\n",
    "y_expected_label = convert_to_label(y_expected)"
   ]
  },
  {
   "cell_type": "code",
   "execution_count": 27,
   "metadata": {},
   "outputs": [
    {
     "name": "stdout",
     "output_type": "stream",
     "text": [
      "['Adelie', 'Gentoo', 'Adelie', 'Adelie', 'Gentoo', 'Gentoo', 'Gentoo', 'Adelie', 'Gentoo', 'Adelie', 'Adelie', 'Adelie', 'Gentoo', 'Gentoo', 'Gentoo', 'Gentoo', 'Gentoo', 'Gentoo', 'Gentoo', 'Adelie', 'Gentoo', 'Gentoo', 'Adelie', 'Gentoo', 'Adelie', 'Gentoo', 'Adelie', 'Gentoo', 'Adelie', 'Gentoo', 'Gentoo', 'Adelie', 'Adelie', 'Gentoo', 'Adelie', 'Adelie', 'Adelie', 'Adelie', 'Adelie', 'Gentoo', 'Adelie', 'Adelie', 'Adelie', 'Gentoo', 'Gentoo', 'Adelie', 'Adelie', 'Adelie', 'Gentoo', 'Gentoo', 'Adelie', 'Adelie', 'Gentoo', 'Adelie', 'Adelie', 'Adelie', 'Gentoo', 'Adelie', 'Gentoo', 'Adelie', 'Adelie', 'Adelie', 'Gentoo', 'Adelie', 'Adelie', 'Gentoo', 'Adelie', 'Gentoo', 'Adelie', 'Adelie', 'Adelie', 'Adelie', 'Adelie', 'Adelie', 'Adelie', 'Adelie', 'Adelie', 'Gentoo', 'Adelie', 'Adelie', 'Adelie', 'Adelie', 'Adelie', 'Gentoo', 'Adelie', 'Gentoo']\n"
     ]
    }
   ],
   "source": [
    "print(y_predicted_label)"
   ]
  },
  {
   "cell_type": "markdown",
   "metadata": {},
   "source": [
    "And lastly let's seee how our Neural Network model performs by calculating the accuracy_score"
   ]
  },
  {
   "cell_type": "code",
   "execution_count": 28,
   "metadata": {},
   "outputs": [
    {
     "name": "stdout",
     "output_type": "stream",
     "text": [
      "Accuracy (using Neural Network):  0.7558139534883721\n"
     ]
    }
   ],
   "source": [
    "tf_accuracy = accuracy_score(y_predicted_label, y_expected_label)\n",
    "\n",
    "print(\"Accuracy (using Neural Network): \", tf_accuracy)"
   ]
  },
  {
   "cell_type": "markdown",
   "metadata": {},
   "source": [
    "#### 5.2.2 Further Resources\n",
    "\n",
    "- [TensorFlow Quickstart](https://www.tensorflow.org/tutorials/quickstart/beginner)\n",
    "- [TensorFlow Tutorial](https://machinelearningmastery.com/tensorflow-tutorial-deep-learning-with-tf-keras/)\n",
    "- [Cheat Sheet](https://github.com/kailashahirwar/cheatsheets-ai/blob/master/PDFs/Tensorflow.pdf)\n",
    "- [Cheat Sheet](https://www.kaggle.com/getting-started/134439)\n",
    "- [Documentation](https://www.tensorflow.org/api_docs/python/tf)"
   ]
  },
  {
   "cell_type": "markdown",
   "metadata": {},
   "source": [
    "### 5.3 PyTorch\n",
    "\n",
    "- PyTorch is an optimized Deep Learning tensor library based on Python and Torch and is mainly used for applications using GPUs and CPUs. PyTorch is favored over other Deep Learning frameworks like TensorFlow and Keras since it uses dynamic computation graphs and is completely Pythonic. - Simplilearn\n",
    "\n",
    "- PyTorch is a machine learning framework based on the Torch library, used for applications such as computer vision and natural language processing, originally developed by Meta AI and now part of the Linux Foundation umbrella. - Wikipedia\n",
    "\n",
    "- An open source machine learning framework that accelerates the path from research prototyping to production deployment. - PyTorch website"
   ]
  },
  {
   "cell_type": "markdown",
   "metadata": {},
   "source": [
    "#### 5.3.1 Further Resources\n",
    "\n",
    "- [PyTorch Quickstart](https://pytorch.org/tutorials/beginner/basics/quickstart_tutorial.html)\n",
    "- [Implement NN for Penguin Classification with PyTorch](https://github.com/rianrajagede/penguin-python/blob/master/Pytorch/penguin_pytorch.py)\n",
    "- [PyTorch vs TensorFlow](https://towardsdatascience.com/pytorch-vs-tensorflow-spotting-the-difference-25c75777377b)\n",
    "- [Cheat Sheet](https://www.stefanseegerer.de/media/pytorch-cheatsheet-EN.pdf)\n",
    "- [Documentation](https://pytorch.org/docs/stable/index.html)"
   ]
  }
 ],
 "metadata": {
  "kernelspec": {
   "display_name": "Python 3.9.10 ('ClimateHack')",
   "language": "python",
   "name": "python3"
  },
  "language_info": {
   "codemirror_mode": {
    "name": "ipython",
    "version": 3
   },
   "file_extension": ".py",
   "mimetype": "text/x-python",
   "name": "python",
   "nbconvert_exporter": "python",
   "pygments_lexer": "ipython3",
   "version": "3.9.10"
  },
  "orig_nbformat": 4,
  "vscode": {
   "interpreter": {
    "hash": "11841742d11f96be4de93e6e6c2ae1e3a22839abf86213b3c23c4bf0c62307b4"
   }
  }
 },
 "nbformat": 4,
 "nbformat_minor": 2
}
